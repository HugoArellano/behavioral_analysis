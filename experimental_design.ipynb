{
 "cells": [
  {
   "cell_type": "markdown",
   "id": "221b7270",
   "metadata": {},
   "source": [
    "## Experimental design - the basics"
   ]
  },
  {
   "cell_type": "markdown",
   "id": "a51bfb89",
   "metadata": {},
   "source": [
    "Previusly to write any code or do statistics, we need to planning step by step our experimental design:\n",
    "* Business goal, first we determine the business goal for the experiment, generally this involve a variable like, cost, costumer retention, etc.\n",
    "* Target metric, we try to pick a metric as close to the intervention, capable to reduce extraneous noise.\n",
    "* Define the intervention (test the smallest posible).\n",
    "* Behavioral logic: Articulate a reasonable behavioral story."
   ]
  },
  {
   "cell_type": "code",
   "execution_count": 1,
   "id": "c75716a5",
   "metadata": {},
   "outputs": [],
   "source": [
    "import pandas as pd\n",
    "import numpy as np\n",
    "import statsmodels.formula.api as smf\n",
    "from statsmodels.formula.api import ols\n",
    "import seaborn as sns\n",
    "import statsmodels.stats.proportion as ssprop\n",
    "import statsmodels.stats.power as ssp"
   ]
  },
  {
   "cell_type": "code",
   "execution_count": 2,
   "id": "853f8d22",
   "metadata": {},
   "outputs": [],
   "source": [
    "hist_data_df = pd.read_csv('data/historical_data.csv')\n",
    "exp_data_df = pd.read_csv('data/experimental_data.csv')"
   ]
  },
  {
   "cell_type": "code",
   "execution_count": 3,
   "id": "2579e03e",
   "metadata": {},
   "outputs": [
    {
     "data": {
      "text/html": [
       "<div>\n",
       "<style scoped>\n",
       "    .dataframe tbody tr th:only-of-type {\n",
       "        vertical-align: middle;\n",
       "    }\n",
       "\n",
       "    .dataframe tbody tr th {\n",
       "        vertical-align: top;\n",
       "    }\n",
       "\n",
       "    .dataframe thead th {\n",
       "        text-align: right;\n",
       "    }\n",
       "</style>\n",
       "<table border=\"1\" class=\"dataframe\">\n",
       "  <thead>\n",
       "    <tr style=\"text-align: right;\">\n",
       "      <th></th>\n",
       "      <th>age</th>\n",
       "      <th>gender</th>\n",
       "      <th>period</th>\n",
       "      <th>seasonality</th>\n",
       "      <th>month</th>\n",
       "      <th>booked</th>\n",
       "    </tr>\n",
       "  </thead>\n",
       "  <tbody>\n",
       "    <tr>\n",
       "      <th>0</th>\n",
       "      <td>34</td>\n",
       "      <td>male</td>\n",
       "      <td>1</td>\n",
       "      <td>0.749993</td>\n",
       "      <td>2</td>\n",
       "      <td>0</td>\n",
       "    </tr>\n",
       "    <tr>\n",
       "      <th>1</th>\n",
       "      <td>39</td>\n",
       "      <td>male</td>\n",
       "      <td>1</td>\n",
       "      <td>0.749993</td>\n",
       "      <td>2</td>\n",
       "      <td>0</td>\n",
       "    </tr>\n",
       "    <tr>\n",
       "      <th>2</th>\n",
       "      <td>42</td>\n",
       "      <td>male</td>\n",
       "      <td>1</td>\n",
       "      <td>0.749993</td>\n",
       "      <td>2</td>\n",
       "      <td>0</td>\n",
       "    </tr>\n",
       "    <tr>\n",
       "      <th>3</th>\n",
       "      <td>33</td>\n",
       "      <td>male</td>\n",
       "      <td>1</td>\n",
       "      <td>0.749993</td>\n",
       "      <td>2</td>\n",
       "      <td>0</td>\n",
       "    </tr>\n",
       "    <tr>\n",
       "      <th>4</th>\n",
       "      <td>32</td>\n",
       "      <td>male</td>\n",
       "      <td>1</td>\n",
       "      <td>0.749993</td>\n",
       "      <td>2</td>\n",
       "      <td>1</td>\n",
       "    </tr>\n",
       "  </tbody>\n",
       "</table>\n",
       "</div>"
      ],
      "text/plain": [
       "   age gender  period  seasonality  month  booked\n",
       "0   34   male       1     0.749993      2       0\n",
       "1   39   male       1     0.749993      2       0\n",
       "2   42   male       1     0.749993      2       0\n",
       "3   33   male       1     0.749993      2       0\n",
       "4   32   male       1     0.749993      2       1"
      ]
     },
     "execution_count": 3,
     "metadata": {},
     "output_type": "execute_result"
    }
   ],
   "source": [
    "hist_data_df.head()"
   ]
  },
  {
   "cell_type": "code",
   "execution_count": 4,
   "id": "3828bce0",
   "metadata": {},
   "outputs": [
    {
     "data": {
      "text/html": [
       "<div>\n",
       "<style scoped>\n",
       "    .dataframe tbody tr th:only-of-type {\n",
       "        vertical-align: middle;\n",
       "    }\n",
       "\n",
       "    .dataframe tbody tr th {\n",
       "        vertical-align: top;\n",
       "    }\n",
       "\n",
       "    .dataframe thead th {\n",
       "        text-align: right;\n",
       "    }\n",
       "</style>\n",
       "<table border=\"1\" class=\"dataframe\">\n",
       "  <thead>\n",
       "    <tr style=\"text-align: right;\">\n",
       "      <th></th>\n",
       "      <th>age</th>\n",
       "      <th>gender</th>\n",
       "      <th>period</th>\n",
       "      <th>seasonality</th>\n",
       "      <th>month</th>\n",
       "      <th>booked</th>\n",
       "      <th>oneclick</th>\n",
       "    </tr>\n",
       "  </thead>\n",
       "  <tbody>\n",
       "    <tr>\n",
       "      <th>0</th>\n",
       "      <td>47</td>\n",
       "      <td>male</td>\n",
       "      <td>33</td>\n",
       "      <td>6.492170e-08</td>\n",
       "      <td>10</td>\n",
       "      <td>0</td>\n",
       "      <td>1</td>\n",
       "    </tr>\n",
       "    <tr>\n",
       "      <th>1</th>\n",
       "      <td>49</td>\n",
       "      <td>male</td>\n",
       "      <td>33</td>\n",
       "      <td>6.492170e-08</td>\n",
       "      <td>10</td>\n",
       "      <td>0</td>\n",
       "      <td>1</td>\n",
       "    </tr>\n",
       "    <tr>\n",
       "      <th>2</th>\n",
       "      <td>37</td>\n",
       "      <td>male</td>\n",
       "      <td>33</td>\n",
       "      <td>6.492170e-08</td>\n",
       "      <td>10</td>\n",
       "      <td>0</td>\n",
       "      <td>0</td>\n",
       "    </tr>\n",
       "    <tr>\n",
       "      <th>3</th>\n",
       "      <td>44</td>\n",
       "      <td>male</td>\n",
       "      <td>33</td>\n",
       "      <td>6.492170e-08</td>\n",
       "      <td>10</td>\n",
       "      <td>0</td>\n",
       "      <td>1</td>\n",
       "    </tr>\n",
       "    <tr>\n",
       "      <th>4</th>\n",
       "      <td>45</td>\n",
       "      <td>male</td>\n",
       "      <td>33</td>\n",
       "      <td>6.492170e-08</td>\n",
       "      <td>10</td>\n",
       "      <td>0</td>\n",
       "      <td>1</td>\n",
       "    </tr>\n",
       "  </tbody>\n",
       "</table>\n",
       "</div>"
      ],
      "text/plain": [
       "   age gender  period   seasonality  month  booked  oneclick\n",
       "0   47   male      33  6.492170e-08     10       0         1\n",
       "1   49   male      33  6.492170e-08     10       0         1\n",
       "2   37   male      33  6.492170e-08     10       0         0\n",
       "3   44   male      33  6.492170e-08     10       0         1\n",
       "4   45   male      33  6.492170e-08     10       0         1"
      ]
     },
     "execution_count": 4,
     "metadata": {},
     "output_type": "execute_result"
    }
   ],
   "source": [
    "exp_data_df.head()"
   ]
  },
  {
   "cell_type": "markdown",
   "id": "9a1d639a",
   "metadata": {},
   "source": [
    "#### Determening random assignment"
   ]
  },
  {
   "cell_type": "code",
   "execution_count": 5,
   "id": "d76c643f",
   "metadata": {},
   "outputs": [],
   "source": [
    "K = 2 # (groups:control and treatment)\n",
    "assgnt = np.random.uniform(0,1,1) # (we use uniform distribution to assign a group)\n",
    "group = 'control' if assgnt <= 1/K else 'treatment'"
   ]
  },
  {
   "cell_type": "markdown",
   "id": "932e7784",
   "metadata": {},
   "source": [
    "B.E.A.N (B is for beta {statistical significance}, E for effect size, A for alpha{statistical power is often represented as 1 − α}, and N for sample size) referred to the four variables that determining the \"statistical power analysis\""
   ]
  },
  {
   "cell_type": "code",
   "execution_count": 6,
   "id": "9c0a398b",
   "metadata": {},
   "outputs": [
    {
     "data": {
      "text/plain": [
       "18950.818821249803"
      ]
     },
     "execution_count": 6,
     "metadata": {},
     "output_type": "execute_result"
    }
   ],
   "source": [
    "# Set a the sample size\n",
    "effect_size = ssprop.proportion_effectsize(0.194, 0.184) #we try to increase reservation rate at least 1%\n",
    "ssp.tt_ind_solve_power(effect_size = effect_size, \n",
    "                      alpha = 0.05, \n",
    "                      nobs1 = None,\n",
    "                      alternative = 'larger',\n",
    "                      power=0.8) #Conventional statistical power"
   ]
  },
  {
   "cell_type": "code",
   "execution_count": 7,
   "id": "66f2df50",
   "metadata": {},
   "outputs": [
    {
     "data": {
      "text/html": [
       "<table class=\"simpletable\">\n",
       "<caption>Logit Regression Results</caption>\n",
       "<tr>\n",
       "  <th>Dep. Variable:</th>        <td>booked</td>      <th>  No. Observations:  </th>   <td>  2000</td>  \n",
       "</tr>\n",
       "<tr>\n",
       "  <th>Model:</th>                 <td>Logit</td>      <th>  Df Residuals:      </th>   <td>  1996</td>  \n",
       "</tr>\n",
       "<tr>\n",
       "  <th>Method:</th>                 <td>MLE</td>       <th>  Df Model:          </th>   <td>     3</td>  \n",
       "</tr>\n",
       "<tr>\n",
       "  <th>Date:</th>            <td>Wed, 10 Nov 2021</td> <th>  Pseudo R-squ.:     </th>   <td>0.2625</td>  \n",
       "</tr>\n",
       "<tr>\n",
       "  <th>Time:</th>                <td>17:58:25</td>     <th>  Log-Likelihood:    </th>  <td> -698.63</td> \n",
       "</tr>\n",
       "<tr>\n",
       "  <th>converged:</th>             <td>True</td>       <th>  LL-Null:           </th>  <td> -947.32</td> \n",
       "</tr>\n",
       "<tr>\n",
       "  <th>Covariance Type:</th>     <td>nonrobust</td>    <th>  LLR p-value:       </th> <td>1.762e-107</td>\n",
       "</tr>\n",
       "</table>\n",
       "<table class=\"simpletable\">\n",
       "<tr>\n",
       "         <td></td>           <th>coef</th>     <th>std err</th>      <th>z</th>      <th>P>|z|</th>  <th>[0.025</th>    <th>0.975]</th>  \n",
       "</tr>\n",
       "<tr>\n",
       "  <th>Intercept</th>      <td>    9.9435</td> <td>    0.642</td> <td>   15.478</td> <td> 0.000</td> <td>    8.684</td> <td>   11.203</td>\n",
       "</tr>\n",
       "<tr>\n",
       "  <th>gender[T.male]</th> <td>    0.2524</td> <td>    0.137</td> <td>    1.849</td> <td> 0.065</td> <td>   -0.015</td> <td>    0.520</td>\n",
       "</tr>\n",
       "<tr>\n",
       "  <th>oneclick</th>       <td>    0.0872</td> <td>    0.135</td> <td>    0.644</td> <td> 0.520</td> <td>   -0.178</td> <td>    0.353</td>\n",
       "</tr>\n",
       "<tr>\n",
       "  <th>age</th>            <td>   -0.3121</td> <td>    0.018</td> <td>  -17.588</td> <td> 0.000</td> <td>   -0.347</td> <td>   -0.277</td>\n",
       "</tr>\n",
       "</table>"
      ],
      "text/plain": [
       "<class 'statsmodels.iolib.summary.Summary'>\n",
       "\"\"\"\n",
       "                           Logit Regression Results                           \n",
       "==============================================================================\n",
       "Dep. Variable:                 booked   No. Observations:                 2000\n",
       "Model:                          Logit   Df Residuals:                     1996\n",
       "Method:                           MLE   Df Model:                            3\n",
       "Date:                Wed, 10 Nov 2021   Pseudo R-squ.:                  0.2625\n",
       "Time:                        17:58:25   Log-Likelihood:                -698.63\n",
       "converged:                       True   LL-Null:                       -947.32\n",
       "Covariance Type:            nonrobust   LLR p-value:                1.762e-107\n",
       "==================================================================================\n",
       "                     coef    std err          z      P>|z|      [0.025      0.975]\n",
       "----------------------------------------------------------------------------------\n",
       "Intercept          9.9435      0.642     15.478      0.000       8.684      11.203\n",
       "gender[T.male]     0.2524      0.137      1.849      0.065      -0.015       0.520\n",
       "oneclick           0.0872      0.135      0.644      0.520      -0.178       0.353\n",
       "age               -0.3121      0.018    -17.588      0.000      -0.347      -0.277\n",
       "==================================================================================\n",
       "\"\"\""
      ]
     },
     "execution_count": 7,
     "metadata": {},
     "output_type": "execute_result"
    }
   ],
   "source": [
    "#running a logistic regression with a small sample\n",
    "exp_null_data_df = hist_data_df.copy().sample(2000)\n",
    "exp_null_data_df['oneclick'] = np.where(np.random.uniform(0,1,2000)>0.5,1,0)\n",
    "mod = smf.logit('booked ~ oneclick + age + gender', data = exp_null_data_df)\n",
    "mod.fit(disp=0).summary()"
   ]
  },
  {
   "cell_type": "markdown",
   "id": "9cd20cf0",
   "metadata": {},
   "source": [
    "The traditional rule would be to consider the impact of the 1-click button to be significant and implement it if the corresponding coefficient had a p-value less than 0.1. Because it's aprox 0.225, we would consider the effect not significant and decline to implement the button."
   ]
  },
  {
   "cell_type": "markdown",
   "id": "dd2019d0",
   "metadata": {},
   "source": [
    "#### Bootstrap simulations"
   ]
  },
  {
   "cell_type": "markdown",
   "id": "87c13ac7",
   "metadata": {},
   "source": [
    "Bootstrap simulations offer an alternative that better reflects the realities and needs of applied data analysis. When using bootstrap simulations, our decision rule doesn't rely on p-values... Simulations offer a very versatile but transparent way of determining the necessary\n",
    "sample size for any experiment, however weird the data or complex the business decision at hand."
   ]
  },
  {
   "cell_type": "code",
   "execution_count": 8,
   "id": "8a38c908",
   "metadata": {},
   "outputs": [],
   "source": [
    "def log_reg_fun(dat_df):\n",
    "    \n",
    "    model = smf.logit('booked ~ oneclick + age + gender', data = dat_df)\n",
    "    res = model.fit(disp=0)\n",
    "    coeff = res.params['oneclick']\n",
    "    return coeff\n",
    "\n",
    "def boot_CI_fun(dat_df, metric_fun, B = 100, conf_level = 0.9):\n",
    "    N= len(dat_df)\n",
    "    conf_level = conf_level\n",
    "    coeffs = []\n",
    "    \n",
    "    for i in range(B):\n",
    "        sim_data_df = dat_df.sample(n=N, replace = True)\n",
    "        coeff = metric_fun(sim_data_df)\n",
    "        coeffs.append(coeff)\n",
    "        \n",
    "    coeffs.sort()\n",
    "    start_idx = round(B* (conf_level) / 2)\n",
    "    end_idx =- round(B*(1 - conf_level)/2)\n",
    "    confint = [coeffs[start_idx], coeffs[end_idx]]\n",
    "    return(confint)\n",
    "\n",
    "def decision_fun(dat_df, metric_fun, B = 100, conf_level = 0.9):\n",
    "    boot_CI = boot_CI_fun(dat_df, metric_fun, B=B, conf_level = conf_level)\n",
    "    decision = 1 if boot_CI[0]>0 else 0\n",
    "    return decision\n",
    "\n",
    "def single_sim_fun(Nexp, dat_df = hist_data_df, metric_fun = log_reg_fun, \n",
    "                   eff_size = 0.01, B = 100, conf_level = 0.9):\n",
    "    \n",
    "    #Adding predicted probability of booking\n",
    "    hist_model = smf.logit('booked ~ age + gender + period', data = dat_df)\n",
    "    res = hist_model.fit(disp=0)\n",
    "    sim_data_df = dat_df.copy()\n",
    "    sim_data_df['pred_prob_bkg'] = res.predict()\n",
    "    #Filtering down to desired sample size\n",
    "    sim_data_df = sim_data_df.sample(Nexp)\n",
    "    #Random assignment of experimental groups\n",
    "    sim_data_df['oneclick'] = np.where(np.random.uniform(size=Nexp) <= 0.5, 0, 1)\n",
    "    # Adding effect to treatment group\n",
    "    sim_data_df['pred_prob_bkg'] = np.where(sim_data_df.oneclick == 1, \n",
    "                                            sim_data_df.pred_prob_bkg + eff_size, \n",
    "                                            sim_data_df.pred_prob_bkg)\n",
    "    sim_data_df['booked'] = np.where(sim_data_df.pred_prob_bkg >= \\\n",
    "                                     np.random.uniform(size=Nexp), 1, 0)\n",
    "    \n",
    "    #Calculate the decision (we want it to be 1)\n",
    "    decision = decision_fun(sim_data_df, metric_fun = metric_fun, B = B, \n",
    "                            conf_level = conf_level)\n",
    "     \n",
    "    return decision\n",
    "\n",
    "def power_sim_fun(dat_df, metric_fun, Nexp, eff_size, Nsim, B = 100,\n",
    "                 conf_level = 0.9):\n",
    "    power_lst = []\n",
    "    for i in range (Nsim):\n",
    "        power_lst.append(single_sim_fun(Nexp=Nexp, dat_df = dat_df,\n",
    "                                       metric_fun = metric_fun,\n",
    "                                       eff_size = eff_size, B =B,\n",
    "                                       conf_level = conf_level))\n",
    "        \n",
    "        power = np.mean(power_lst)\n",
    "        return(power)\n"
   ]
  },
  {
   "cell_type": "code",
   "execution_count": 9,
   "id": "dc98b03a",
   "metadata": {},
   "outputs": [
    {
     "data": {
      "text/plain": [
       "1"
      ]
     },
     "execution_count": 9,
     "metadata": {},
     "output_type": "execute_result"
    }
   ],
   "source": [
    "single_sim_fun(Nexp = 1000)"
   ]
  },
  {
   "cell_type": "code",
   "execution_count": 10,
   "id": "f293aa07",
   "metadata": {},
   "outputs": [
    {
     "data": {
      "text/plain": [
       "1.0"
      ]
     },
     "execution_count": 10,
     "metadata": {},
     "output_type": "execute_result"
    }
   ],
   "source": [
    "power_sim_fun(dat_df=hist_data_df, metric_fun = log_reg_fun, Nexp = int(4e4), \n",
    "              eff_size=0.01, Nsim=20)"
   ]
  },
  {
   "cell_type": "code",
   "execution_count": 11,
   "id": "394d1125",
   "metadata": {},
   "outputs": [
    {
     "data": {
      "text/plain": [
       "0.8"
      ]
     },
     "execution_count": 11,
     "metadata": {},
     "output_type": "execute_result"
    }
   ],
   "source": [
    "#Alternative parallelized function for higher speed\n",
    "from joblib import Parallel, delayed\n",
    "import psutil\n",
    "\n",
    "def opt_power_sim_fun(dat_df, metric_fun, Nexp, eff_size, Nsim, B = 100, conf_level = 0.9):\n",
    "    #Parallelized version with joblib\n",
    "    n_cpu = psutil.cpu_count() #Counting number of cores on machine\n",
    "    counter = [Nexp] * Nsim\n",
    "    res_parallel = Parallel(n_jobs = n_cpu)(delayed(single_sim_fun)(Nexp) for Nexp in counter)\n",
    "    pwr = np.mean(res_parallel)\n",
    "    return(pwr)\n",
    "opt_power_sim_fun(dat_df=hist_data_df, metric_fun = log_reg_fun, Nexp = int(1e3), eff_size=0.01, Nsim=10)"
   ]
  },
  {
   "cell_type": "markdown",
   "id": "7217b7c3",
   "metadata": {},
   "source": [
    "### Analyzing and interpreting experimental results"
   ]
  },
  {
   "cell_type": "code",
   "execution_count": 12,
   "id": "65927547",
   "metadata": {},
   "outputs": [
    {
     "name": "stdout",
     "output_type": "stream",
     "text": [
      "Optimization terminated successfully.\n",
      "         Current function value: 0.161220\n",
      "         Iterations 9\n"
     ]
    },
    {
     "data": {
      "text/html": [
       "<table class=\"simpletable\">\n",
       "<caption>Logit Regression Results</caption>\n",
       "<tr>\n",
       "  <th>Dep. Variable:</th>        <td>booked</td>      <th>  No. Observations:  </th>  <td> 40160</td> \n",
       "</tr>\n",
       "<tr>\n",
       "  <th>Model:</th>                 <td>Logit</td>      <th>  Df Residuals:      </th>  <td> 40156</td> \n",
       "</tr>\n",
       "<tr>\n",
       "  <th>Method:</th>                 <td>MLE</td>       <th>  Df Model:          </th>  <td>     3</td> \n",
       "</tr>\n",
       "<tr>\n",
       "  <th>Date:</th>            <td>Wed, 10 Nov 2021</td> <th>  Pseudo R-squ.:     </th>  <td>0.3311</td> \n",
       "</tr>\n",
       "<tr>\n",
       "  <th>Time:</th>                <td>17:58:58</td>     <th>  Log-Likelihood:    </th> <td> -6474.6</td>\n",
       "</tr>\n",
       "<tr>\n",
       "  <th>converged:</th>             <td>True</td>       <th>  LL-Null:           </th> <td> -9679.1</td>\n",
       "</tr>\n",
       "<tr>\n",
       "  <th>Covariance Type:</th>     <td>nonrobust</td>    <th>  LLR p-value:       </th>  <td> 0.000</td> \n",
       "</tr>\n",
       "</table>\n",
       "<table class=\"simpletable\">\n",
       "<tr>\n",
       "         <td></td>           <th>coef</th>     <th>std err</th>      <th>z</th>      <th>P>|z|</th>  <th>[0.025</th>    <th>0.975]</th>  \n",
       "</tr>\n",
       "<tr>\n",
       "  <th>Intercept</th>      <td>   11.6928</td> <td>    0.226</td> <td>   51.819</td> <td> 0.000</td> <td>   11.251</td> <td>   12.135</td>\n",
       "</tr>\n",
       "<tr>\n",
       "  <th>gender[T.male]</th> <td>    0.2542</td> <td>    0.049</td> <td>    5.182</td> <td> 0.000</td> <td>    0.158</td> <td>    0.350</td>\n",
       "</tr>\n",
       "<tr>\n",
       "  <th>age</th>            <td>   -0.3941</td> <td>    0.006</td> <td>  -61.282</td> <td> 0.000</td> <td>   -0.407</td> <td>   -0.381</td>\n",
       "</tr>\n",
       "<tr>\n",
       "  <th>oneclick</th>       <td>    0.1578</td> <td>    0.047</td> <td>    3.357</td> <td> 0.001</td> <td>    0.066</td> <td>    0.250</td>\n",
       "</tr>\n",
       "</table>"
      ],
      "text/plain": [
       "<class 'statsmodels.iolib.summary.Summary'>\n",
       "\"\"\"\n",
       "                           Logit Regression Results                           \n",
       "==============================================================================\n",
       "Dep. Variable:                 booked   No. Observations:                40160\n",
       "Model:                          Logit   Df Residuals:                    40156\n",
       "Method:                           MLE   Df Model:                            3\n",
       "Date:                Wed, 10 Nov 2021   Pseudo R-squ.:                  0.3311\n",
       "Time:                        17:58:58   Log-Likelihood:                -6474.6\n",
       "converged:                       True   LL-Null:                       -9679.1\n",
       "Covariance Type:            nonrobust   LLR p-value:                     0.000\n",
       "==================================================================================\n",
       "                     coef    std err          z      P>|z|      [0.025      0.975]\n",
       "----------------------------------------------------------------------------------\n",
       "Intercept         11.6928      0.226     51.819      0.000      11.251      12.135\n",
       "gender[T.male]     0.2542      0.049      5.182      0.000       0.158       0.350\n",
       "age               -0.3941      0.006    -61.282      0.000      -0.407      -0.381\n",
       "oneclick           0.1578      0.047      3.357      0.001       0.066       0.250\n",
       "==================================================================================\n",
       "\"\"\""
      ]
     },
     "execution_count": 12,
     "metadata": {},
     "output_type": "execute_result"
    }
   ],
   "source": [
    "log_mod_exp = smf.logit('booked ~ age + gender + oneclick', data = exp_data_df)\n",
    "res = log_mod_exp.fit()\n",
    "res.summary()"
   ]
  },
  {
   "cell_type": "code",
   "execution_count": 13,
   "id": "ea3ec09d",
   "metadata": {},
   "outputs": [
    {
     "data": {
      "text/plain": [
       "0.007129714313552685"
      ]
     },
     "execution_count": 13,
     "metadata": {},
     "output_type": "execute_result"
    }
   ],
   "source": [
    "### Calculating average difference in probabilities\n",
    "def diff_prob_fun(dat_df, reg_model = log_mod_exp):\n",
    "    \n",
    "    #Creating new copies of data\n",
    "    no_button_df = dat_df.loc[:, 'age':'gender']\n",
    "    no_button_df.loc[:, 'oneclick'] = 0\n",
    "    button_df = dat_df.loc[:,'age':'gender']\n",
    "    button_df.loc[:, 'oneclick'] = 1\n",
    "    \n",
    "    #Adding the predictions of the model \n",
    "    no_button_df.loc[:, 'pred_bkg_rate'] = res.predict(no_button_df)\n",
    "    button_df.loc[:, 'pred_bkg_rate'] = res.predict(button_df)\n",
    "    \n",
    "    diff = button_df.loc[:,'pred_bkg_rate'] \\\n",
    "    - no_button_df.loc[:,'pred_bkg_rate']\n",
    "    return diff.mean()\n",
    "    \n",
    "diff_prob_fun(exp_data_df, reg_model = log_mod_exp)"
   ]
  },
  {
   "cell_type": "markdown",
   "id": "c0aaee9a",
   "metadata": {},
   "source": [
    "With the last result we can see an positive effect (0.0071%) of the implementation of the button, this is lower than our target set in 1%. "
   ]
  },
  {
   "cell_type": "code",
   "execution_count": 14,
   "id": "f7b9b01a",
   "metadata": {},
   "outputs": [
    {
     "data": {
      "text/plain": [
       "[0.0071298982086282535, 0.007209905800872517]"
      ]
     },
     "execution_count": 14,
     "metadata": {},
     "output_type": "execute_result"
    }
   ],
   "source": [
    "boot_CI_fun(exp_data_df, diff_prob_fun, B = 100, conf_level = 0.9)"
   ]
  },
  {
   "cell_type": "markdown",
   "id": "8aa9fe01",
   "metadata": {},
   "source": [
    "The bootstrap interval is narrow and doesn't cross the zero barrier. Therefore, we can treat our result as empirically statistically significant at the 5% level... also we can treat our result as significant. So, implement the button or not it'll depend on estimated effect size, cost, and risk appetite."
   ]
  }
 ],
 "metadata": {
  "kernelspec": {
   "display_name": "Python 3 (ipykernel)",
   "language": "python",
   "name": "python3"
  },
  "language_info": {
   "codemirror_mode": {
    "name": "ipython",
    "version": 3
   },
   "file_extension": ".py",
   "mimetype": "text/x-python",
   "name": "python",
   "nbconvert_exporter": "python",
   "pygments_lexer": "ipython3",
   "version": "3.9.7"
  }
 },
 "nbformat": 4,
 "nbformat_minor": 5
}
