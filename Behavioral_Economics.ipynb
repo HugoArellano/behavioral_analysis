{
 "cells": [
  {
   "cell_type": "markdown",
   "id": "51effe9c",
   "metadata": {},
   "source": [
    "# Notes of behavioral data analysis"
   ]
  },
  {
   "cell_type": "markdown",
   "id": "55248c8c",
   "metadata": {},
   "source": [
    "The logic of microeconomic theory assumes that people drive with rationality in order to boost utility, but reality says to us that people's conducts are far away from this. As humans, irrationality is a part of us,  \n",
    "\n",
    "\n",
    "but the interesting thing is that irrationality can be predicted if we know our natural biases.\n",
    "\n",
    "Also as economists, generally try to boost performance and consequently get value for the set goal, like: increasing savings for retirement, promoting health, selling our new products, boosting tax revenue, creating long-time customers, and so on. To achieve this kind of thing, we need to look up human behavior.\n",
    "\n",
    "In difference to machines, predict the human behavior is more complex because we interact with the social environment, have limited energy for a day, and generally is difficult to get out of our statu quo, on the other hand, we need to be capable of exploding our creativity and seeing things better."
   ]
  }
 ],
 "metadata": {
  "kernelspec": {
   "display_name": "Python 3 (ipykernel)",
   "language": "python",
   "name": "python3"
  },
  "language_info": {
   "codemirror_mode": {
    "name": "ipython",
    "version": 3
   },
   "file_extension": ".py",
   "mimetype": "text/x-python",
   "name": "python",
   "nbconvert_exporter": "python",
   "pygments_lexer": "ipython3",
   "version": "3.9.7"
  }
 },
 "nbformat": 4,
 "nbformat_minor": 5
}
