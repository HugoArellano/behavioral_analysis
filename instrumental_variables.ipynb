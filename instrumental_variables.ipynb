{
 "cells": [
  {
   "cell_type": "markdown",
   "id": "c228361f",
   "metadata": {},
   "source": [
    "# Moderation, mediation and instrumental variables"
   ]
  },
  {
   "cell_type": "markdown",
   "id": "937649ac",
   "metadata": {},
   "source": [
    "Moderation is a versatile mathematical tool that allow us to understand interaction effects, on the other hand mediation allow us to peek into the black box of causal relationship and understand how a variable affects another. Finally instrumental variables enpower us to mesure impact acurately. "
   ]
  },
  {
   "cell_type": "markdown",
   "id": "1f6fd251",
   "metadata": {},
   "source": [
    "## Moderation"
   ]
  },
  {
   "cell_type": "markdown",
   "id": "2a098fd8",
   "metadata": {},
   "source": [
    "The formal definition of moderation is extremely simple: it’s the inclusion in a regression of a multiplication between two predictors. And can be used to understand all of the following behavioral phenomena: \n",
    "1. Segmentation\n",
    "2. Interaction\n",
    "3. Nonlinearities"
   ]
  },
  {
   "cell_type": "markdown",
   "id": "4dd73db7",
   "metadata": {},
   "source": [
    "We can use segmenting for observation data, but the proble with that approach is that each variable is examinated independently. Unfortunately, that’s precisely the case we’re trying to account for! In other words, simply adding *children as a variable in our regression doesn’t account for the interaction between *play area and *children."
   ]
  },
  {
   "cell_type": "markdown",
   "id": "57ca7022",
   "metadata": {},
   "source": [
    "We can solve the proble adding by adding a fourth coefficient, for the interecation: VisitDuration = β 0 + β p .PlayArea + β c .Children + β i .(PlayArea * Children)"
   ]
  },
  {
   "cell_type": "code",
   "execution_count": 66,
   "id": "8b6ecfb0",
   "metadata": {},
   "outputs": [],
   "source": [
    "import pandas as pd\n",
    "import numpy as np\n",
    "import seaborn as sns\n",
    "import matplotlib.pyplot as plt\n",
    "from matplotlib import rcParams\n",
    "from statsmodels.formula.api import ols"
   ]
  },
  {
   "cell_type": "code",
   "execution_count": 67,
   "id": "dd8e1bc8",
   "metadata": {},
   "outputs": [],
   "source": [
    "hist_data = pd.read_csv('data/cmarket_historical.csv')"
   ]
  },
  {
   "cell_type": "code",
   "execution_count": 68,
   "id": "5fa1f8ea",
   "metadata": {},
   "outputs": [
    {
     "data": {
      "text/html": [
       "<div>\n",
       "<style scoped>\n",
       "    .dataframe tbody tr th:only-of-type {\n",
       "        vertical-align: middle;\n",
       "    }\n",
       "\n",
       "    .dataframe tbody tr th {\n",
       "        vertical-align: top;\n",
       "    }\n",
       "\n",
       "    .dataframe thead th {\n",
       "        text-align: right;\n",
       "    }\n",
       "</style>\n",
       "<table border=\"1\" class=\"dataframe\">\n",
       "  <thead>\n",
       "    <tr style=\"text-align: right;\">\n",
       "      <th></th>\n",
       "      <th>day</th>\n",
       "      <th>store_id</th>\n",
       "      <th>children</th>\n",
       "      <th>age</th>\n",
       "      <th>duration</th>\n",
       "      <th>play_area</th>\n",
       "      <th>prop_children</th>\n",
       "      <th>grocery_purchases</th>\n",
       "    </tr>\n",
       "  </thead>\n",
       "  <tbody>\n",
       "    <tr>\n",
       "      <th>0</th>\n",
       "      <td>1</td>\n",
       "      <td>1</td>\n",
       "      <td>0</td>\n",
       "      <td>32</td>\n",
       "      <td>31.312290</td>\n",
       "      <td>1</td>\n",
       "      <td>0.319686</td>\n",
       "      <td>62.045753</td>\n",
       "    </tr>\n",
       "    <tr>\n",
       "      <th>1</th>\n",
       "      <td>1</td>\n",
       "      <td>1</td>\n",
       "      <td>0</td>\n",
       "      <td>73</td>\n",
       "      <td>22.268927</td>\n",
       "      <td>1</td>\n",
       "      <td>0.319686</td>\n",
       "      <td>50.388761</td>\n",
       "    </tr>\n",
       "    <tr>\n",
       "      <th>2</th>\n",
       "      <td>1</td>\n",
       "      <td>1</td>\n",
       "      <td>1</td>\n",
       "      <td>42</td>\n",
       "      <td>57.147008</td>\n",
       "      <td>1</td>\n",
       "      <td>0.319686</td>\n",
       "      <td>106.724868</td>\n",
       "    </tr>\n",
       "    <tr>\n",
       "      <th>3</th>\n",
       "      <td>1</td>\n",
       "      <td>1</td>\n",
       "      <td>0</td>\n",
       "      <td>36</td>\n",
       "      <td>19.685268</td>\n",
       "      <td>1</td>\n",
       "      <td>0.319686</td>\n",
       "      <td>38.612676</td>\n",
       "    </tr>\n",
       "    <tr>\n",
       "      <th>4</th>\n",
       "      <td>1</td>\n",
       "      <td>1</td>\n",
       "      <td>0</td>\n",
       "      <td>55</td>\n",
       "      <td>27.591965</td>\n",
       "      <td>1</td>\n",
       "      <td>0.319686</td>\n",
       "      <td>21.607421</td>\n",
       "    </tr>\n",
       "  </tbody>\n",
       "</table>\n",
       "</div>"
      ],
      "text/plain": [
       "   day  store_id  children  age   duration  play_area  prop_children  \\\n",
       "0    1         1         0   32  31.312290          1       0.319686   \n",
       "1    1         1         0   73  22.268927          1       0.319686   \n",
       "2    1         1         1   42  57.147008          1       0.319686   \n",
       "3    1         1         0   36  19.685268          1       0.319686   \n",
       "4    1         1         0   55  27.591965          1       0.319686   \n",
       "\n",
       "   grocery_purchases  \n",
       "0          62.045753  \n",
       "1          50.388761  \n",
       "2         106.724868  \n",
       "3          38.612676  \n",
       "4          21.607421  "
      ]
     },
     "execution_count": 68,
     "metadata": {},
     "output_type": "execute_result"
    }
   ],
   "source": [
    "hist_data.head()"
   ]
  },
  {
   "cell_type": "code",
   "execution_count": 69,
   "id": "41a22568",
   "metadata": {
    "scrolled": true
   },
   "outputs": [
    {
     "data": {
      "text/html": [
       "<table class=\"simpletable\">\n",
       "<caption>OLS Regression Results</caption>\n",
       "<tr>\n",
       "  <th>Dep. Variable:</th>        <td>duration</td>     <th>  R-squared:         </th>  <td>   0.778</td>  \n",
       "</tr>\n",
       "<tr>\n",
       "  <th>Model:</th>                   <td>OLS</td>       <th>  Adj. R-squared:    </th>  <td>   0.778</td>  \n",
       "</tr>\n",
       "<tr>\n",
       "  <th>Method:</th>             <td>Least Squares</td>  <th>  F-statistic:       </th>  <td>7.302e+05</td> \n",
       "</tr>\n",
       "<tr>\n",
       "  <th>Date:</th>             <td>Wed, 10 Nov 2021</td> <th>  Prob (F-statistic):</th>   <td>  0.00</td>   \n",
       "</tr>\n",
       "<tr>\n",
       "  <th>Time:</th>                 <td>17:57:32</td>     <th>  Log-Likelihood:    </th> <td>-2.0215e+06</td>\n",
       "</tr>\n",
       "<tr>\n",
       "  <th>No. Observations:</th>      <td>623610</td>      <th>  AIC:               </th>  <td>4.043e+06</td> \n",
       "</tr>\n",
       "<tr>\n",
       "  <th>Df Residuals:</th>          <td>623606</td>      <th>  BIC:               </th>  <td>4.043e+06</td> \n",
       "</tr>\n",
       "<tr>\n",
       "  <th>Df Model:</th>              <td>     3</td>      <th>                     </th>      <td> </td>     \n",
       "</tr>\n",
       "<tr>\n",
       "  <th>Covariance Type:</th>      <td>nonrobust</td>    <th>                     </th>      <td> </td>     \n",
       "</tr>\n",
       "</table>\n",
       "<table class=\"simpletable\">\n",
       "<tr>\n",
       "           <td></td>             <th>coef</th>     <th>std err</th>      <th>t</th>      <th>P>|t|</th>  <th>[0.025</th>    <th>0.975]</th>  \n",
       "</tr>\n",
       "<tr>\n",
       "  <th>Intercept</th>          <td>   19.9876</td> <td>    0.012</td> <td> 1605.505</td> <td> 0.000</td> <td>   19.963</td> <td>   20.012</td>\n",
       "</tr>\n",
       "<tr>\n",
       "  <th>play_area</th>          <td>    3.9591</td> <td>    0.021</td> <td>  188.838</td> <td> 0.000</td> <td>    3.918</td> <td>    4.000</td>\n",
       "</tr>\n",
       "<tr>\n",
       "  <th>children</th>           <td>   10.0153</td> <td>    0.020</td> <td>  496.599</td> <td> 0.000</td> <td>    9.976</td> <td>   10.055</td>\n",
       "</tr>\n",
       "<tr>\n",
       "  <th>play_area:children</th> <td>   20.9866</td> <td>    0.033</td> <td>  627.832</td> <td> 0.000</td> <td>   20.921</td> <td>   21.052</td>\n",
       "</tr>\n",
       "</table>\n",
       "<table class=\"simpletable\">\n",
       "<tr>\n",
       "  <th>Omnibus:</th>       <td>34141.902</td> <th>  Durbin-Watson:     </th>  <td>   2.000</td> \n",
       "</tr>\n",
       "<tr>\n",
       "  <th>Prob(Omnibus):</th>  <td> 0.000</td>   <th>  Jarque-Bera (JB):  </th> <td>134224.984</td>\n",
       "</tr>\n",
       "<tr>\n",
       "  <th>Skew:</th>           <td> 0.106</td>   <th>  Prob(JB):          </th>  <td>    0.00</td> \n",
       "</tr>\n",
       "<tr>\n",
       "  <th>Kurtosis:</th>       <td> 5.263</td>   <th>  Cond. No.          </th>  <td>    5.91</td> \n",
       "</tr>\n",
       "</table><br/><br/>Notes:<br/>[1] Standard Errors assume that the covariance matrix of the errors is correctly specified."
      ],
      "text/plain": [
       "<class 'statsmodels.iolib.summary.Summary'>\n",
       "\"\"\"\n",
       "                            OLS Regression Results                            \n",
       "==============================================================================\n",
       "Dep. Variable:               duration   R-squared:                       0.778\n",
       "Model:                            OLS   Adj. R-squared:                  0.778\n",
       "Method:                 Least Squares   F-statistic:                 7.302e+05\n",
       "Date:                Wed, 10 Nov 2021   Prob (F-statistic):               0.00\n",
       "Time:                        17:57:32   Log-Likelihood:            -2.0215e+06\n",
       "No. Observations:              623610   AIC:                         4.043e+06\n",
       "Df Residuals:                  623606   BIC:                         4.043e+06\n",
       "Df Model:                           3                                         \n",
       "Covariance Type:            nonrobust                                         \n",
       "======================================================================================\n",
       "                         coef    std err          t      P>|t|      [0.025      0.975]\n",
       "--------------------------------------------------------------------------------------\n",
       "Intercept             19.9876      0.012   1605.505      0.000      19.963      20.012\n",
       "play_area              3.9591      0.021    188.838      0.000       3.918       4.000\n",
       "children              10.0153      0.020    496.599      0.000       9.976      10.055\n",
       "play_area:children    20.9866      0.033    627.832      0.000      20.921      21.052\n",
       "==============================================================================\n",
       "Omnibus:                    34141.902   Durbin-Watson:                   2.000\n",
       "Prob(Omnibus):                  0.000   Jarque-Bera (JB):           134224.984\n",
       "Skew:                           0.106   Prob(JB):                         0.00\n",
       "Kurtosis:                       5.263   Cond. No.                         5.91\n",
       "==============================================================================\n",
       "\n",
       "Notes:\n",
       "[1] Standard Errors assume that the covariance matrix of the errors is correctly specified.\n",
       "\"\"\""
      ]
     },
     "execution_count": 69,
     "metadata": {},
     "output_type": "execute_result"
    }
   ],
   "source": [
    "ols('duration~play_area * children', data=hist_data).fit().summary()"
   ]
  },
  {
   "cell_type": "markdown",
   "id": "a6f2a362",
   "metadata": {},
   "source": [
    "Average per costumer:\n",
    "* Without children / without play area = 19.98 min\n",
    "* Without children / with play area = 19.98 + 3.95 min\n",
    "* With children / without play area = 19.98 + 10.01 min\n",
    "* with children / with play area = 19.98 + 3.95 + 10.01 + 20.98 min"
   ]
  },
  {
   "cell_type": "code",
   "execution_count": 70,
   "id": "06ce2795",
   "metadata": {},
   "outputs": [],
   "source": [
    "costumer_data = {'children': [0,0,1,1], 'play_area': [0,1,0,1], \n",
    "            'avg_time_min':[19.98,23.93,29.99,54.92]}\n",
    "\n",
    "df = pd.DataFrame(data=costumer_data)"
   ]
  },
  {
   "cell_type": "code",
   "execution_count": 71,
   "id": "32012d5e",
   "metadata": {},
   "outputs": [
    {
     "data": {
      "text/plain": [
       "(-0.1, 1.05)"
      ]
     },
     "execution_count": 71,
     "metadata": {},
     "output_type": "execute_result"
    },
    {
     "data": {
      "image/png": "[encoded data removed]",
      "text/plain": [
       "<Figure size 648x360 with 1 Axes>"
      ]
     },
     "metadata": {},
     "output_type": "display_data"
    }
   ],
   "source": [
    "sns.set_style(\"whitegrid\")\n",
    "fig, ax = plt.subplots(figsize=(9,5))\n",
    "\n",
    "sns.lineplot(data=df, x='children', y='avg_time_min',\n",
    "             hue='play_area', marker='o')\n",
    "\n",
    "rcParams['axes.titlepad'] = 30\n",
    "fig.suptitle('Average time in market', size= 25)\n",
    "ax.set_ylabel('Average time in minutes', color='Black', size=18)\n",
    "ax.set_xlabel('Children', color='Black', size=18)\n",
    "\n",
    "plt.ylim(0, 70)\n",
    "plt.xlim(-.1, None)"
   ]
  },
  {
   "cell_type": "markdown",
   "id": "0ca2dbcb",
   "metadata": {},
   "source": [
    "If there was no interaction effect between our two variables, the two lines would be parallel, as having a play area would shift the average visit duration. Choosing between stores requieres determining the store and custumer characteristics that have the stronges interactions with the playarea variable."
   ]
  },
  {
   "cell_type": "markdown",
   "id": "317f0a70",
   "metadata": {},
   "source": [
    "#### Segmenting experimental data"
   ]
  },
  {
   "cell_type": "markdown",
   "id": "f4d393cd",
   "metadata": {},
   "source": [
    "The process to segment experimental data is pretty much identical to the process we just used with observational data. When running an experiment, we often care not only about measuring the averages effect of the treatment in our sample, but also about determinin groups for with the effect is particularly stron or weak. Personalization is a key rational for targeting specific messages or tratmentes to specific segments of our customer base. "
   ]
  },
  {
   "cell_type": "markdown",
   "id": "2a9ec0d2",
   "metadata": {},
   "source": [
    "#### Nonlinearities"
   ]
  },
  {
   "cell_type": "code",
   "execution_count": 72,
   "id": "2c862fd4",
   "metadata": {},
   "outputs": [
    {
     "data": {
      "text/html": [
       "<div>\n",
       "<style scoped>\n",
       "    .dataframe tbody tr th:only-of-type {\n",
       "        vertical-align: middle;\n",
       "    }\n",
       "\n",
       "    .dataframe tbody tr th {\n",
       "        vertical-align: top;\n",
       "    }\n",
       "\n",
       "    .dataframe thead th {\n",
       "        text-align: right;\n",
       "    }\n",
       "</style>\n",
       "<table border=\"1\" class=\"dataframe\">\n",
       "  <thead>\n",
       "    <tr style=\"text-align: right;\">\n",
       "      <th></th>\n",
       "      <th>Emails</th>\n",
       "      <th>Purchases</th>\n",
       "      <th>Properties</th>\n",
       "      <th>Customers</th>\n",
       "      <th>pred_PP_lin</th>\n",
       "      <th>pred_PP_quad</th>\n",
       "    </tr>\n",
       "  </thead>\n",
       "  <tbody>\n",
       "    <tr>\n",
       "      <th>0</th>\n",
       "      <td>1.0</td>\n",
       "      <td>-0.073047</td>\n",
       "      <td>1.0</td>\n",
       "      <td>1.010014</td>\n",
       "      <td>0.513405</td>\n",
       "      <td>0.214499</td>\n",
       "    </tr>\n",
       "    <tr>\n",
       "      <th>1</th>\n",
       "      <td>1.5</td>\n",
       "      <td>0.409038</td>\n",
       "      <td>1.5</td>\n",
       "      <td>2.174739</td>\n",
       "      <td>0.626788</td>\n",
       "      <td>0.427518</td>\n",
       "    </tr>\n",
       "    <tr>\n",
       "      <th>2</th>\n",
       "      <td>2.0</td>\n",
       "      <td>0.704445</td>\n",
       "      <td>2.0</td>\n",
       "      <td>5.447952</td>\n",
       "      <td>0.740172</td>\n",
       "      <td>0.628815</td>\n",
       "    </tr>\n",
       "    <tr>\n",
       "      <th>3</th>\n",
       "      <td>2.5</td>\n",
       "      <td>1.059146</td>\n",
       "      <td>2.5</td>\n",
       "      <td>5.256522</td>\n",
       "      <td>0.853556</td>\n",
       "      <td>0.818390</td>\n",
       "    </tr>\n",
       "    <tr>\n",
       "      <th>4</th>\n",
       "      <td>3.0</td>\n",
       "      <td>1.196953</td>\n",
       "      <td>3.0</td>\n",
       "      <td>9.022790</td>\n",
       "      <td>0.966939</td>\n",
       "      <td>0.996244</td>\n",
       "    </tr>\n",
       "    <tr>\n",
       "      <th>5</th>\n",
       "      <td>3.5</td>\n",
       "      <td>1.190517</td>\n",
       "      <td>3.5</td>\n",
       "      <td>12.269720</td>\n",
       "      <td>1.080323</td>\n",
       "      <td>1.162376</td>\n",
       "    </tr>\n",
       "    <tr>\n",
       "      <th>6</th>\n",
       "      <td>4.0</td>\n",
       "      <td>1.313141</td>\n",
       "      <td>4.0</td>\n",
       "      <td>17.356543</td>\n",
       "      <td>1.193707</td>\n",
       "      <td>1.316786</td>\n",
       "    </tr>\n",
       "    <tr>\n",
       "      <th>7</th>\n",
       "      <td>4.5</td>\n",
       "      <td>1.452410</td>\n",
       "      <td>4.5</td>\n",
       "      <td>22.309126</td>\n",
       "      <td>1.307090</td>\n",
       "      <td>1.459474</td>\n",
       "    </tr>\n",
       "    <tr>\n",
       "      <th>8</th>\n",
       "      <td>5.0</td>\n",
       "      <td>1.434365</td>\n",
       "      <td>5.0</td>\n",
       "      <td>21.540943</td>\n",
       "      <td>1.420474</td>\n",
       "      <td>1.590440</td>\n",
       "    </tr>\n",
       "    <tr>\n",
       "      <th>9</th>\n",
       "      <td>5.5</td>\n",
       "      <td>1.792759</td>\n",
       "      <td>5.5</td>\n",
       "      <td>25.841304</td>\n",
       "      <td>1.533858</td>\n",
       "      <td>1.709685</td>\n",
       "    </tr>\n",
       "    <tr>\n",
       "      <th>10</th>\n",
       "      <td>6.0</td>\n",
       "      <td>1.928761</td>\n",
       "      <td>6.0</td>\n",
       "      <td>37.086346</td>\n",
       "      <td>1.647241</td>\n",
       "      <td>1.817207</td>\n",
       "    </tr>\n",
       "    <tr>\n",
       "      <th>11</th>\n",
       "      <td>6.5</td>\n",
       "      <td>1.703069</td>\n",
       "      <td>6.5</td>\n",
       "      <td>42.292854</td>\n",
       "      <td>1.760625</td>\n",
       "      <td>1.913008</td>\n",
       "    </tr>\n",
       "    <tr>\n",
       "      <th>12</th>\n",
       "      <td>7.0</td>\n",
       "      <td>1.883167</td>\n",
       "      <td>7.0</td>\n",
       "      <td>49.325132</td>\n",
       "      <td>1.874009</td>\n",
       "      <td>1.997088</td>\n",
       "    </tr>\n",
       "    <tr>\n",
       "      <th>13</th>\n",
       "      <td>7.5</td>\n",
       "      <td>2.016735</td>\n",
       "      <td>7.5</td>\n",
       "      <td>58.733509</td>\n",
       "      <td>1.987392</td>\n",
       "      <td>2.069445</td>\n",
       "    </tr>\n",
       "    <tr>\n",
       "      <th>14</th>\n",
       "      <td>8.0</td>\n",
       "      <td>2.149966</td>\n",
       "      <td>8.0</td>\n",
       "      <td>65.565555</td>\n",
       "      <td>2.100776</td>\n",
       "      <td>2.130081</td>\n",
       "    </tr>\n",
       "  </tbody>\n",
       "</table>\n",
       "</div>"
      ],
      "text/plain": [
       "    Emails  Purchases  Properties  Customers  pred_PP_lin  pred_PP_quad\n",
       "0      1.0  -0.073047         1.0   1.010014     0.513405      0.214499\n",
       "1      1.5   0.409038         1.5   2.174739     0.626788      0.427518\n",
       "2      2.0   0.704445         2.0   5.447952     0.740172      0.628815\n",
       "3      2.5   1.059146         2.5   5.256522     0.853556      0.818390\n",
       "4      3.0   1.196953         3.0   9.022790     0.966939      0.996244\n",
       "5      3.5   1.190517         3.5  12.269720     1.080323      1.162376\n",
       "6      4.0   1.313141         4.0  17.356543     1.193707      1.316786\n",
       "7      4.5   1.452410         4.5  22.309126     1.307090      1.459474\n",
       "8      5.0   1.434365         5.0  21.540943     1.420474      1.590440\n",
       "9      5.5   1.792759         5.5  25.841304     1.533858      1.709685\n",
       "10     6.0   1.928761         6.0  37.086346     1.647241      1.817207\n",
       "11     6.5   1.703069         6.5  42.292854     1.760625      1.913008\n",
       "12     7.0   1.883167         7.0  49.325132     1.874009      1.997088\n",
       "13     7.5   2.016735         7.5  58.733509     1.987392      2.069445\n",
       "14     8.0   2.149966         8.0  65.565555     2.100776      2.130081"
      ]
     },
     "execution_count": 72,
     "metadata": {},
     "output_type": "execute_result"
    }
   ],
   "source": [
    "df2 = pd.read_csv('data/nonlin_data.csv')\n",
    "df2.head(15)"
   ]
  },
  {
   "cell_type": "code",
   "execution_count": 73,
   "id": "7e6e75d7",
   "metadata": {},
   "outputs": [
    {
     "data": {
      "text/plain": [
       "<AxesSubplot:xlabel='Properties', ylabel='Customers'>"
      ]
     },
     "execution_count": 73,
     "metadata": {},
     "output_type": "execute_result"
    },
    {
     "data": {
      "image/png": "[encoded data removed]",
      "text/plain": [
       "<Figure size 648x324 with 2 Axes>"
      ]
     },
     "metadata": {},
     "output_type": "display_data"
    }
   ],
   "source": [
    "fig, axes = plt.subplots(1,2, figsize=(9,4.5))\n",
    "fig.suptitle('Plot Comparison', size= 25)\n",
    "\n",
    "sns.regplot(x='Emails', y='Purchases', data=df2, fit_reg=False, ax=axes[0])\n",
    "sns.regplot(x='Properties', y='Customers', data=df2, fit_reg=False, ax=axes[1])"
   ]
  },
  {
   "cell_type": "markdown",
   "id": "02257495",
   "metadata": {},
   "source": [
    "Mathematically, the curve on the left is concave, and the curve on the right is convex.\n",
    "A common mistake is to believe that such realitionship cannot be represented with linear regression."
   ]
  },
  {
   "cell_type": "markdown",
   "id": "2dcbb6eb",
   "metadata": {},
   "source": [
    "In many circunstances, the relationship between a cause and an effect is non linear (decreaing returns), we can address nonlinear relationships between variables by adding the explanatory variable taken to the square, adding a quadratic term can significantly improve the accuracy of a regression. However, a quadratic term is nothing more that an interaction between a variable and itself. In other words, anonlinear causal relationship between two variables can be reframed as self-moderation. In reality, what matters for a regression to be “linear” is that the predicted variable has a linear relationship with the coefficients, not the variables."
   ]
  },
  {
   "cell_type": "code",
   "execution_count": 74,
   "id": "b6df7f49",
   "metadata": {},
   "outputs": [
    {
     "name": "stderr",
     "output_type": "stream",
     "text": [
      "/home/hugo_arellano/anaconda3/envs/geo_ds/lib/python3.9/site-packages/scipy/stats/stats.py:1541: UserWarning: kurtosistest only valid for n>=20 ... continuing anyway, n=19\n",
      "  warnings.warn(\"kurtosistest only valid for n>=20 ... continuing \"\n"
     ]
    },
    {
     "data": {
      "text/html": [
       "<table class=\"simpletable\">\n",
       "<caption>OLS Regression Results</caption>\n",
       "<tr>\n",
       "  <th>Dep. Variable:</th>        <td>Purchases</td>    <th>  R-squared:         </th> <td>   0.961</td>\n",
       "</tr>\n",
       "<tr>\n",
       "  <th>Model:</th>                   <td>OLS</td>       <th>  Adj. R-squared:    </th> <td>   0.956</td>\n",
       "</tr>\n",
       "<tr>\n",
       "  <th>Method:</th>             <td>Least Squares</td>  <th>  F-statistic:       </th> <td>   197.6</td>\n",
       "</tr>\n",
       "<tr>\n",
       "  <th>Date:</th>             <td>Wed, 10 Nov 2021</td> <th>  Prob (F-statistic):</th> <td>5.25e-12</td>\n",
       "</tr>\n",
       "<tr>\n",
       "  <th>Time:</th>                 <td>17:57:33</td>     <th>  Log-Likelihood:    </th> <td>  11.973</td>\n",
       "</tr>\n",
       "<tr>\n",
       "  <th>No. Observations:</th>      <td>    19</td>      <th>  AIC:               </th> <td>  -17.95</td>\n",
       "</tr>\n",
       "<tr>\n",
       "  <th>Df Residuals:</th>          <td>    16</td>      <th>  BIC:               </th> <td>  -15.11</td>\n",
       "</tr>\n",
       "<tr>\n",
       "  <th>Df Model:</th>              <td>     2</td>      <th>                     </th>     <td> </td>   \n",
       "</tr>\n",
       "<tr>\n",
       "  <th>Covariance Type:</th>      <td>nonrobust</td>    <th>                     </th>     <td> </td>   \n",
       "</tr>\n",
       "</table>\n",
       "<table class=\"simpletable\">\n",
       "<tr>\n",
       "         <td></td>           <th>coef</th>     <th>std err</th>      <th>t</th>      <th>P>|t|</th>  <th>[0.025</th>    <th>0.975]</th>  \n",
       "</tr>\n",
       "<tr>\n",
       "  <th>Intercept</th>      <td>   -0.2467</td> <td>    0.131</td> <td>   -1.878</td> <td> 0.079</td> <td>   -0.525</td> <td>    0.032</td>\n",
       "</tr>\n",
       "<tr>\n",
       "  <th>Emails</th>         <td>    0.4846</td> <td>    0.054</td> <td>    8.920</td> <td> 0.000</td> <td>    0.369</td> <td>    0.600</td>\n",
       "</tr>\n",
       "<tr>\n",
       "  <th>I(Emails ** 2)</th> <td>   -0.0234</td> <td>    0.005</td> <td>   -4.862</td> <td> 0.000</td> <td>   -0.034</td> <td>   -0.013</td>\n",
       "</tr>\n",
       "</table>\n",
       "<table class=\"simpletable\">\n",
       "<tr>\n",
       "  <th>Omnibus:</th>       <td> 0.776</td> <th>  Durbin-Watson:     </th> <td>   1.232</td>\n",
       "</tr>\n",
       "<tr>\n",
       "  <th>Prob(Omnibus):</th> <td> 0.679</td> <th>  Jarque-Bera (JB):  </th> <td>   0.404</td>\n",
       "</tr>\n",
       "<tr>\n",
       "  <th>Skew:</th>          <td>-0.350</td> <th>  Prob(JB):          </th> <td>   0.817</td>\n",
       "</tr>\n",
       "<tr>\n",
       "  <th>Kurtosis:</th>      <td> 2.853</td> <th>  Cond. No.          </th> <td>    215.</td>\n",
       "</tr>\n",
       "</table><br/><br/>Notes:<br/>[1] Standard Errors assume that the covariance matrix of the errors is correctly specified."
      ],
      "text/plain": [
       "<class 'statsmodels.iolib.summary.Summary'>\n",
       "\"\"\"\n",
       "                            OLS Regression Results                            \n",
       "==============================================================================\n",
       "Dep. Variable:              Purchases   R-squared:                       0.961\n",
       "Model:                            OLS   Adj. R-squared:                  0.956\n",
       "Method:                 Least Squares   F-statistic:                     197.6\n",
       "Date:                Wed, 10 Nov 2021   Prob (F-statistic):           5.25e-12\n",
       "Time:                        17:57:33   Log-Likelihood:                 11.973\n",
       "No. Observations:                  19   AIC:                            -17.95\n",
       "Df Residuals:                      16   BIC:                            -15.11\n",
       "Df Model:                           2                                         \n",
       "Covariance Type:            nonrobust                                         \n",
       "==================================================================================\n",
       "                     coef    std err          t      P>|t|      [0.025      0.975]\n",
       "----------------------------------------------------------------------------------\n",
       "Intercept         -0.2467      0.131     -1.878      0.079      -0.525       0.032\n",
       "Emails             0.4846      0.054      8.920      0.000       0.369       0.600\n",
       "I(Emails ** 2)    -0.0234      0.005     -4.862      0.000      -0.034      -0.013\n",
       "==============================================================================\n",
       "Omnibus:                        0.776   Durbin-Watson:                   1.232\n",
       "Prob(Omnibus):                  0.679   Jarque-Bera (JB):                0.404\n",
       "Skew:                          -0.350   Prob(JB):                        0.817\n",
       "Kurtosis:                       2.853   Cond. No.                         215.\n",
       "==============================================================================\n",
       "\n",
       "Notes:\n",
       "[1] Standard Errors assume that the covariance matrix of the errors is correctly specified.\n",
       "\"\"\""
      ]
     },
     "execution_count": 74,
     "metadata": {},
     "output_type": "execute_result"
    }
   ],
   "source": [
    "model = ols('Purchases ~ Emails + I(Emails**2)', data=df2)\n",
    "model.fit().summary()"
   ]
  },
  {
   "cell_type": "markdown",
   "id": "5f2f9315",
   "metadata": {},
   "source": [
    "There are three types of moderation, wich are mathematically identical but have different interprtation base of cariables involved:\n",
    "* Segmentation - In segmentatin personal characteristics moderate the effect of a business behavior, such as an experimental intervention.\n",
    "* Interaction - In interaction we observe moderation between variables of the same nature, such as two demographic or thow behavioral variables.\n",
    "* Nonlinearities - with nonlinearities a variable self-moderates its a causal impact on another variable."
   ]
  },
  {
   "cell_type": "markdown",
   "id": "eecce8f0",
   "metadata": {},
   "source": [
    "## How to apply moderation"
   ]
  },
  {
   "cell_type": "code",
   "execution_count": 75,
   "id": "f5edb2d8",
   "metadata": {},
   "outputs": [
    {
     "data": {
      "text/html": [
       "<div>\n",
       "<style scoped>\n",
       "    .dataframe tbody tr th:only-of-type {\n",
       "        vertical-align: middle;\n",
       "    }\n",
       "\n",
       "    .dataframe tbody tr th {\n",
       "        vertical-align: top;\n",
       "    }\n",
       "\n",
       "    .dataframe thead th {\n",
       "        text-align: right;\n",
       "    }\n",
       "</style>\n",
       "<table border=\"1\" class=\"dataframe\">\n",
       "  <thead>\n",
       "    <tr style=\"text-align: right;\">\n",
       "      <th></th>\n",
       "      <th>M</th>\n",
       "      <th>SD</th>\n",
       "    </tr>\n",
       "    <tr>\n",
       "      <th>play_area</th>\n",
       "      <th></th>\n",
       "      <th></th>\n",
       "    </tr>\n",
       "  </thead>\n",
       "  <tbody>\n",
       "    <tr>\n",
       "      <th>0</th>\n",
       "      <td>23.803928</td>\n",
       "      <td>6.970786</td>\n",
       "    </tr>\n",
       "    <tr>\n",
       "      <th>1</th>\n",
       "      <td>36.360939</td>\n",
       "      <td>17.111469</td>\n",
       "    </tr>\n",
       "  </tbody>\n",
       "</table>\n",
       "</div>"
      ],
      "text/plain": [
       "                   M         SD\n",
       "play_area                      \n",
       "0          23.803928   6.970786\n",
       "1          36.360939  17.111469"
      ]
     },
     "execution_count": 75,
     "metadata": {},
     "output_type": "execute_result"
    }
   ],
   "source": [
    "hist_data.groupby('play_area').agg(M=('duration', lambda x: x.mean()),\n",
    "                           SD = ('duration', lambda x: x.std()))"
   ]
  },
  {
   "cell_type": "markdown",
   "id": "68b0c559",
   "metadata": {},
   "source": [
    "In our example there are 10 minute difference in standar deviations, give that the differences in means across the groups is about 13 minutes."
   ]
  },
  {
   "cell_type": "markdown",
   "id": "805cbcaa",
   "metadata": {},
   "source": [
    "Beyond improving the fit of your regression and accounting for intuitive behavioral effecs such as decrasing returns, including self-moderation in your regresion can alert you to the presence of a hidden moderator. Loking the market example: the relation ship between visit duration and groceries purchases, it's conceivable that very short visits represent targeted shopping runs to buy a specific article whereas longer tripes are more likely to be grocery runs."
   ]
  },
  {
   "cell_type": "markdown",
   "id": "e7eae7f2",
   "metadata": {},
   "source": [
    "Among customers with childre, we may also imagine that the increase in visit duration depends on the age, a.g, if grandparenst are less likely to drop off their grandchildren at the play area that parents."
   ]
  },
  {
   "cell_type": "code",
   "execution_count": 76,
   "id": "484a7b0b",
   "metadata": {},
   "outputs": [
    {
     "data": {
      "text/html": [
       "<table class=\"simpletable\">\n",
       "<caption>OLS Regression Results</caption>\n",
       "<tr>\n",
       "  <th>Dep. Variable:</th>        <td>duration</td>     <th>  R-squared:         </th>  <td>   0.785</td>  \n",
       "</tr>\n",
       "<tr>\n",
       "  <th>Model:</th>                   <td>OLS</td>       <th>  Adj. R-squared:    </th>  <td>   0.785</td>  \n",
       "</tr>\n",
       "<tr>\n",
       "  <th>Method:</th>             <td>Least Squares</td>  <th>  F-statistic:       </th>  <td>3.254e+05</td> \n",
       "</tr>\n",
       "<tr>\n",
       "  <th>Date:</th>             <td>Wed, 10 Nov 2021</td> <th>  Prob (F-statistic):</th>   <td>  0.00</td>   \n",
       "</tr>\n",
       "<tr>\n",
       "  <th>Time:</th>                 <td>17:57:33</td>     <th>  Log-Likelihood:    </th> <td>-2.0120e+06</td>\n",
       "</tr>\n",
       "<tr>\n",
       "  <th>No. Observations:</th>      <td>623610</td>      <th>  AIC:               </th>  <td>4.024e+06</td> \n",
       "</tr>\n",
       "<tr>\n",
       "  <th>Df Residuals:</th>          <td>623602</td>      <th>  BIC:               </th>  <td>4.024e+06</td> \n",
       "</tr>\n",
       "<tr>\n",
       "  <th>Df Model:</th>              <td>     7</td>      <th>                     </th>      <td> </td>     \n",
       "</tr>\n",
       "<tr>\n",
       "  <th>Covariance Type:</th>      <td>nonrobust</td>    <th>                     </th>      <td> </td>     \n",
       "</tr>\n",
       "</table>\n",
       "<table class=\"simpletable\">\n",
       "<tr>\n",
       "             <td></td>               <th>coef</th>     <th>std err</th>      <th>t</th>      <th>P>|t|</th>  <th>[0.025</th>    <th>0.975]</th>  \n",
       "</tr>\n",
       "<tr>\n",
       "  <th>Intercept</th>              <td>   20.0166</td> <td>    0.037</td> <td>  534.906</td> <td> 0.000</td> <td>   19.943</td> <td>   20.090</td>\n",
       "</tr>\n",
       "<tr>\n",
       "  <th>play_area</th>              <td>    3.9110</td> <td>    0.063</td> <td>   62.014</td> <td> 0.000</td> <td>    3.787</td> <td>    4.035</td>\n",
       "</tr>\n",
       "<tr>\n",
       "  <th>children</th>               <td>    9.9983</td> <td>    0.061</td> <td>  165.012</td> <td> 0.000</td> <td>    9.880</td> <td>   10.117</td>\n",
       "</tr>\n",
       "<tr>\n",
       "  <th>play_area:children</th>     <td>   29.1638</td> <td>    0.101</td> <td>  290.105</td> <td> 0.000</td> <td>   28.967</td> <td>   29.361</td>\n",
       "</tr>\n",
       "<tr>\n",
       "  <th>age</th>                    <td>   -0.0006</td> <td>    0.001</td> <td>   -0.820</td> <td> 0.412</td> <td>   -0.002</td> <td>    0.001</td>\n",
       "</tr>\n",
       "<tr>\n",
       "  <th>play_area:age</th>          <td>    0.0010</td> <td>    0.001</td> <td>    0.806</td> <td> 0.420</td> <td>   -0.001</td> <td>    0.003</td>\n",
       "</tr>\n",
       "<tr>\n",
       "  <th>children:age</th>           <td>    0.0003</td> <td>    0.001</td> <td>    0.297</td> <td> 0.767</td> <td>   -0.002</td> <td>    0.003</td>\n",
       "</tr>\n",
       "<tr>\n",
       "  <th>play_area:children:age</th> <td>   -0.1637</td> <td>    0.002</td> <td>  -86.139</td> <td> 0.000</td> <td>   -0.167</td> <td>   -0.160</td>\n",
       "</tr>\n",
       "</table>\n",
       "<table class=\"simpletable\">\n",
       "<tr>\n",
       "  <th>Omnibus:</th>       <td>29231.811</td> <th>  Durbin-Watson:     </th>  <td>   2.000</td> \n",
       "</tr>\n",
       "<tr>\n",
       "  <th>Prob(Omnibus):</th>  <td> 0.000</td>   <th>  Jarque-Bera (JB):  </th> <td>106719.896</td>\n",
       "</tr>\n",
       "<tr>\n",
       "  <th>Skew:</th>           <td>-0.003</td>   <th>  Prob(JB):          </th>  <td>    0.00</td> \n",
       "</tr>\n",
       "<tr>\n",
       "  <th>Kurtosis:</th>       <td> 5.027</td>   <th>  Cond. No.          </th>  <td>    955.</td> \n",
       "</tr>\n",
       "</table><br/><br/>Notes:<br/>[1] Standard Errors assume that the covariance matrix of the errors is correctly specified."
      ],
      "text/plain": [
       "<class 'statsmodels.iolib.summary.Summary'>\n",
       "\"\"\"\n",
       "                            OLS Regression Results                            \n",
       "==============================================================================\n",
       "Dep. Variable:               duration   R-squared:                       0.785\n",
       "Model:                            OLS   Adj. R-squared:                  0.785\n",
       "Method:                 Least Squares   F-statistic:                 3.254e+05\n",
       "Date:                Wed, 10 Nov 2021   Prob (F-statistic):               0.00\n",
       "Time:                        17:57:33   Log-Likelihood:            -2.0120e+06\n",
       "No. Observations:              623610   AIC:                         4.024e+06\n",
       "Df Residuals:                  623602   BIC:                         4.024e+06\n",
       "Df Model:                           7                                         \n",
       "Covariance Type:            nonrobust                                         \n",
       "==========================================================================================\n",
       "                             coef    std err          t      P>|t|      [0.025      0.975]\n",
       "------------------------------------------------------------------------------------------\n",
       "Intercept                 20.0166      0.037    534.906      0.000      19.943      20.090\n",
       "play_area                  3.9110      0.063     62.014      0.000       3.787       4.035\n",
       "children                   9.9983      0.061    165.012      0.000       9.880      10.117\n",
       "play_area:children        29.1638      0.101    290.105      0.000      28.967      29.361\n",
       "age                       -0.0006      0.001     -0.820      0.412      -0.002       0.001\n",
       "play_area:age              0.0010      0.001      0.806      0.420      -0.001       0.003\n",
       "children:age               0.0003      0.001      0.297      0.767      -0.002       0.003\n",
       "play_area:children:age    -0.1637      0.002    -86.139      0.000      -0.167      -0.160\n",
       "==============================================================================\n",
       "Omnibus:                    29231.811   Durbin-Watson:                   2.000\n",
       "Prob(Omnibus):                  0.000   Jarque-Bera (JB):           106719.896\n",
       "Skew:                          -0.003   Prob(JB):                         0.00\n",
       "Kurtosis:                       5.027   Cond. No.                         955.\n",
       "==============================================================================\n",
       "\n",
       "Notes:\n",
       "[1] Standard Errors assume that the covariance matrix of the errors is correctly specified.\n",
       "\"\"\""
      ]
     },
     "execution_count": 76,
     "metadata": {},
     "output_type": "execute_result"
    }
   ],
   "source": [
    "ols('duration~play_area * children * age', data=hist_data).fit().summary()"
   ]
  },
  {
   "cell_type": "code",
   "execution_count": 77,
   "id": "993fee36",
   "metadata": {},
   "outputs": [
    {
     "data": {
      "text/plain": [
       "[-0.16793850521008857, -0.15948858175778768]"
      ]
     },
     "execution_count": 77,
     "metadata": {},
     "output_type": "execute_result"
    }
   ],
   "source": [
    "# Determine 90%-CI for moderated moderation coefficient\n",
    "def metric_fun(dat_df):\n",
    "    model = ols(\"duration~play_area * children * age\", data=dat_df)\n",
    "    res = model.fit(disp=0)\n",
    "    coeff = res.params['play_area:children:age']\n",
    "    return coeff\n",
    "#metric_fun(hist_data_df)\n",
    "\n",
    "def boot_CI_fun(dat_df, metric_fun, B = 100):\n",
    "    N = len(dat_df)\n",
    "    conf_level = 0.9\n",
    "    coeffs = []\n",
    "\n",
    "    for i in range(B):\n",
    "        sim_data_df = dat_df.sample(n=N, replace = True)\n",
    "        coeff = metric_fun(sim_data_df)\n",
    "        coeffs.append(coeff)\n",
    "    coeffs.sort()\n",
    "    start_idx = round(B * (1 - conf_level) / 2)\n",
    "    end_idx = - round(B * (1 - conf_level) / 2)\n",
    "    confint = [coeffs[start_idx], coeffs[end_idx]]\n",
    "    return(confint)\n",
    "\n",
    "boot_CI_fun(hist_data, metric_fun)"
   ]
  },
  {
   "cell_type": "markdown",
   "id": "af4832c4",
   "metadata": {},
   "source": [
    "The coefficient for our 3-way yerm, the last one in output is negative as well as economically meaningful, and the 90%-Ci is approximately -0.167 / -0.160... doderated moderation depends on whether the underlying logic is that of segmentation or interaction:\n",
    "* We would interpret it as segmentation if we have two personal-characteristic\n",
    "variables moderating a business characteristic or business behavior.\n",
    "* With three variables of the same nature, we would interpret it as a three-way\n",
    "interaction between three variables\n",
    "\n"
   ]
  },
  {
   "cell_type": "markdown",
   "id": "d8b06d0c",
   "metadata": {},
   "source": [
    "### Validating moderation with bootstrap"
   ]
  },
  {
   "cell_type": "code",
   "execution_count": 78,
   "id": "a2823176",
   "metadata": {},
   "outputs": [
    {
     "ename": "NameError",
     "evalue": "name 'hist_data_df' is not defined",
     "output_type": "error",
     "traceback": [
      "\u001b[0;31m---------------------------------------------------------------------------\u001b[0m",
      "\u001b[0;31mNameError\u001b[0m                                 Traceback (most recent call last)",
      "\u001b[0;32m/tmp/ipykernel_5308/4017773989.py\u001b[0m in \u001b[0;36m<module>\u001b[0;34m\u001b[0m\n\u001b[1;32m      5\u001b[0m     \u001b[0mcoeff\u001b[0m \u001b[0;34m=\u001b[0m \u001b[0mres\u001b[0m\u001b[0;34m.\u001b[0m\u001b[0mparams\u001b[0m\u001b[0;34m[\u001b[0m\u001b[0;34m'play_area:children'\u001b[0m\u001b[0;34m]\u001b[0m\u001b[0;34m\u001b[0m\u001b[0;34m\u001b[0m\u001b[0m\n\u001b[1;32m      6\u001b[0m     \u001b[0;32mreturn\u001b[0m \u001b[0mcoeff\u001b[0m\u001b[0;34m\u001b[0m\u001b[0;34m\u001b[0m\u001b[0m\n\u001b[0;32m----> 7\u001b[0;31m \u001b[0mmetric_fun\u001b[0m\u001b[0;34m(\u001b[0m\u001b[0mhist_data_df\u001b[0m\u001b[0;34m)\u001b[0m\u001b[0;34m\u001b[0m\u001b[0;34m\u001b[0m\u001b[0m\n\u001b[0m\u001b[1;32m      8\u001b[0m \u001b[0;34m\u001b[0m\u001b[0m\n\u001b[1;32m      9\u001b[0m \u001b[0;31m# Changing the bootstrap function\u001b[0m\u001b[0;34m\u001b[0m\u001b[0;34m\u001b[0m\u001b[0m\n",
      "\u001b[0;31mNameError\u001b[0m: name 'hist_data_df' is not defined"
     ]
    }
   ],
   "source": [
    "#Changing the metric function\n",
    "def metric_fun2(dat_df):\n",
    "    model = ols(\"duration~play_area * children\", data=dat_df)\n",
    "    res = model.fit(disp=0)\n",
    "    coeff = res.params['play_area:children']\n",
    "    return coeff\n",
    "metric_fun(hist_data_df)\n",
    "\n",
    "# Changing the bootstrap function\n",
    "def boot_CI_fun2(dat_df, metric_fun, B = 100):\n",
    "  #Setting the number of bootstrap samples\n",
    "  \n",
    "  #Setting sample size\n",
    "  N = 10000\n",
    "  conf_level = 0.9\n",
    "  coeffs = []\n",
    "  \n",
    "  \n",
    "  for i in range(B):\n",
    "      sim_data_df = dat_df.sample(n=N, replace = True)\n",
    "      coeff = metric_fun(sim_data_df)\n",
    "      coeffs.append(coeff)\n",
    "  \n",
    "  coeffs.sort()\n",
    "  start_idx = round(B * (1 - conf_level) / 2)\n",
    "  end_idx = - round(B * (1 - conf_level) / 2)\n",
    "  \n",
    "  confint = [coeffs[start_idx], coeffs[end_idx]]  \n",
    "  \n",
    "  return(confint)\n",
    "\n",
    "boot_CI_fun2(hist_data_df, metric_fun2, B = 1000)"
   ]
  },
  {
   "cell_type": "markdown",
   "id": "d5cb6b9d",
   "metadata": {},
   "source": [
    "### Interpreting individual coefficients"
   ]
  },
  {
   "cell_type": "code",
   "execution_count": null,
   "id": "de3f886b",
   "metadata": {},
   "outputs": [],
   "source": [
    "centered_data_df = hist_data.copy()\n",
    "centered_data_df['age'] = centered_data_df['age'].subtract(centered_data_df['age'].mean())"
   ]
  },
  {
   "cell_type": "code",
   "execution_count": null,
   "id": "e7742434",
   "metadata": {},
   "outputs": [],
   "source": [
    "centered_data_df['play_area'] = centered_data_df['play_area']"
   ]
  },
  {
   "cell_type": "markdown",
   "id": "3c04294f",
   "metadata": {},
   "source": [
    "How should you set the defaults for your varaibles? It depends on the business problem at hand as well as the nature of the variable; \n",
    "* In some situations the average is only important in a subgroup, or we'll be interested in the maximum/minimum.\n",
    "* For binary variables, the relevant default is usually the status quo. (Play areas)\n",
    "* For categorical variables such as gender or state, unless there is a meaningful references point, you can default to the most commo category. "
   ]
  },
  {
   "cell_type": "markdown",
   "id": "a8078481",
   "metadata": {},
   "source": [
    "VisitDuration =β 1 + β p1 .PlayArea + β a1 .Age + β pa1 .(PlayArea * Age) + β g1 .Gender +\n",
    "β s1 .State + β gs1 .(Gender * State)"
   ]
  },
  {
   "cell_type": "markdown",
   "id": "7adba626",
   "metadata": {},
   "source": [
    "### Calcularing effects at the level of the business decisions"
   ]
  },
  {
   "cell_type": "markdown",
   "id": "8d468b36",
   "metadata": {},
   "source": [
    "A main adventage of the intepretation of individual coefficient is that it'll be compared with the numbers obtained in other circunstances. Therefore, an alternative approach is to calculate the value of your effect variable of interest with and without that decision.\n",
    "In order to take a business decision, generally we don't see the varega effect, insted, for each store without play area, we can directely determinate the what would be the averega additional visit duration if we added a play area in another store.  "
   ]
  },
  {
   "cell_type": "code",
   "execution_count": null,
   "id": "30cdba2f",
   "metadata": {},
   "outputs": [],
   "source": [
    "hist_data.head()"
   ]
  },
  {
   "cell_type": "code",
   "execution_count": null,
   "id": "8b96ae0c",
   "metadata": {},
   "outputs": [],
   "source": [
    "def business_metric_fun(dat_df):\n",
    "    model = ols(\"duration~play_area * (children + age)\", data=dat_df)\n",
    "    res = model.fit(disp=0)\n",
    "    action_dat_df = dat_df[dat_df.play_area == 0].copy()\n",
    "    action_dat_df['pred_dur0'] = res.predict(action_dat_df)\n",
    "    action_dat_df.play_area = 1\n",
    "    action_dat_df['pred_dur1'] = res.predict(action_dat_df)\n",
    "    action_dat_df['pred_dur_diff'] = action_dat_df.pred_dur1 - action_dat_df.pred_dur0\n",
    "    action_res_df = action_dat_df.groupby(['store_id']).agg(mean_dur_diff=('pred_dur_diff', 'mean'),\n",
    "    tot_dur_diff=('pred_dur_diff', 'sum'))\n",
    "    return action_res_df\n",
    "action_res_df = business_metric_fun(hist_data)\n",
    "action_res_df.describe()"
   ]
  },
  {
   "cell_type": "markdown",
   "id": "aacc39f4",
   "metadata": {},
   "source": [
    "So can then select the stores with the highest benefits of a play area"
   ]
  },
  {
   "cell_type": "markdown",
   "id": "fe74ccf3",
   "metadata": {},
   "source": [
    "## Mediation and Instrumental Variables"
   ]
  },
  {
   "cell_type": "markdown",
   "id": "aee13379",
   "metadata": {},
   "source": [
    "Mediation refers to the presence of an intermediary variable between two variables in a chain. From a causal perspective, mediation reduces the risk of false positives, and not accounting adequately, wheras from a behavioral perspective, medaiton helps us better design and understand experiments:\n",
    "* Mediation allows us to understand the machanisms at plat and generate actionable insights.\n",
    "* In certain circumstances, not accounting for mediation could bias a causal estimate."
   ]
  },
  {
   "cell_type": "markdown",
   "id": "d6b08ad7",
   "metadata": {},
   "source": [
    "Mediation is not just a 'nice to have' tool. In some circumstances, not accounting for it can introduce biases in our causal estimates. The simplest case where this occurs is when we're trying to measure the (total) effect of one variable on another, but we unwittingly include a madiator in our regression as a control variable. "
   ]
  },
  {
   "cell_type": "markdown",
   "id": "723c36fe",
   "metadata": {},
   "source": [
    "Measuring mediatin is straightforward a bit cumbersome. It boils down to running several regressions to estimate the following:\n",
    "* The total effect of PlayArea on GroceryPurchases - the indirect effect\n",
    "* The effect of  PlayArea on GroceryPurchases that is mediated by visitduration - indirect effect.\n",
    "* The effect of playarea on grocerypurchases that is not mediated by visitduration - direct effect\n",
    "\n",
    "If we find no evidence for the indirect, mediated path, we should reject our tentative mediator. Conversily, if we find no evidence for the direct path, then the effect is fully mediated. The % of total effect mediated is a common and useful way to sumarize that evidence."
   ]
  },
  {
   "cell_type": "code",
   "execution_count": null,
   "id": "d56e1e77",
   "metadata": {},
   "outputs": [],
   "source": [
    "'''Total Effect'''\n",
    "ols('grocery_purchases~play_area', data=hist_data).fit().summary()"
   ]
  },
  {
   "cell_type": "markdown",
   "id": "e99280a1",
   "metadata": {},
   "source": [
    "The total effect is approximatly 27.62, meaning that adding a play area increases the amount spent on groceries by 27.62 on average, not holding the visit duration constant."
   ]
  },
  {
   "cell_type": "code",
   "execution_count": null,
   "id": "48a12d1c",
   "metadata": {},
   "outputs": [],
   "source": [
    "'''mediated effect'''\n",
    "ols('duration~play_area', data=hist_data).fit().summary()"
   ]
  },
  {
   "cell_type": "markdown",
   "id": "cd4876f9",
   "metadata": {},
   "source": [
    "The logic behind: if a play area increases the average duration of a visit by X minutes and each additional minute of visit duration increases the amount spent on groceries by $Y, the adding a play area increases the amount spent on groceries by X*Y. \n",
    "* With the results of the regression, we can say that play_area adds about 12.5 minutes of visit duration"
   ]
  },
  {
   "cell_type": "code",
   "execution_count": null,
   "id": "59457259",
   "metadata": {
    "scrolled": true
   },
   "outputs": [],
   "source": [
    "ols('grocery_purchases~duration+play_area', data=hist_data).fit().summary()"
   ]
  },
  {
   "cell_type": "markdown",
   "id": "202c9bfa",
   "metadata": {},
   "source": [
    "The second regression is for the arrow between visit_duration and grocery_purchases, Including play_area. Running a regression with our primary cause and our mediator as explanatory variables yields coefficientes of respectively 0.1575usd to the average grocery purchase per visit, and the second says that adding one minute to visit duration adds about 2.18usd to the average grocery purchases per visit."
   ]
  },
  {
   "cell_type": "code",
   "execution_count": null,
   "id": "fd5fbc50",
   "metadata": {},
   "outputs": [],
   "source": [
    "mediated_effect = 12.55*2.18\n",
    "mediated_effect"
   ]
  },
  {
   "cell_type": "code",
   "execution_count": null,
   "id": "0114e149",
   "metadata": {},
   "outputs": [],
   "source": [
    "total_effect= 27.62\n",
    "per_mediated = mediated_effect / total_effect \n",
    "per_mediated"
   ]
  },
  {
   "cell_type": "code",
   "execution_count": null,
   "id": "3c68d79e",
   "metadata": {},
   "outputs": [],
   "source": [
    "per_unmediated = (total_effect - mediated_effect) / total_effect\n",
    "per_unmediated"
   ]
  },
  {
   "cell_type": "markdown",
   "id": "e1fc1619",
   "metadata": {},
   "source": [
    "## Instrumental Variables"
   ]
  },
  {
   "cell_type": "code",
   "execution_count": null,
   "id": "f1042a0f",
   "metadata": {},
   "outputs": [],
   "source": [
    "from linearmodels.iv import IV2SLS"
   ]
  },
  {
   "cell_type": "code",
   "execution_count": null,
   "id": "26d50c3d",
   "metadata": {},
   "outputs": [],
   "source": [
    "exp_data = pd.read_csv('data/exp.csv')"
   ]
  },
  {
   "cell_type": "markdown",
   "id": "2e86fffe",
   "metadata": {},
   "source": [
    "First of all, we need to do sanity checks by runing the linear regressions for the first arm of the mediation and for the total effect. If either of thes yields a coefficient very close to zero, that would jeopardize our IV regression. "
   ]
  },
  {
   "cell_type": "code",
   "execution_count": null,
   "id": "c44e9427",
   "metadata": {},
   "outputs": [],
   "source": [
    "ols('call_CSAT~group+age+reason', data=exp_data).fit(disp=0).summary()"
   ]
  },
  {
   "cell_type": "code",
   "execution_count": null,
   "id": "dff23570",
   "metadata": {},
   "outputs": [],
   "source": [
    "ols('M6Spend~group+age+reason', data=exp_data).fit(disp=0).summary()"
   ]
  },
  {
   "cell_type": "code",
   "execution_count": null,
   "id": "5a3e3afa",
   "metadata": {},
   "outputs": [],
   "source": [
    "ols(\"M6Spend~call_CSAT+age+reason\", data=exp_data).fit(disp=0).summary()"
   ]
  },
  {
   "cell_type": "markdown",
   "id": "9cf9cbe6",
   "metadata": {},
   "source": [
    "Both coefficients are safely distinct from zero, so we can move to our IV regression."
   ]
  },
  {
   "cell_type": "code",
   "execution_count": null,
   "id": "656ffaaa",
   "metadata": {},
   "outputs": [],
   "source": [
    "exp_data.head()"
   ]
  },
  {
   "cell_type": "code",
   "execution_count": null,
   "id": "1637ba99",
   "metadata": {},
   "outputs": [],
   "source": [
    "import pandas as pd\n",
    "from statsmodels.formula.api import ols\n",
    "import numpy as np\n",
    "\n",
    "from linearmodels.iv import IV2SLS"
   ]
  },
  {
   "cell_type": "code",
   "execution_count": null,
   "id": "904935d2",
   "metadata": {},
   "outputs": [],
   "source": [
    "iv_mod = IV2SLS.from_formula('M6Spend ~ 1 + age + reason + [call_CSAT ~ group]', \n",
    "                             exp_data).fit()"
   ]
  },
  {
   "cell_type": "code",
   "execution_count": null,
   "id": "3a8199f6",
   "metadata": {},
   "outputs": [],
   "source": [
    "hist_data.head()"
   ]
  },
  {
   "cell_type": "code",
   "execution_count": null,
   "id": "114ca2e0",
   "metadata": {},
   "outputs": [],
   "source": [
    "formula = 'grocery_purchases ~ 1 + play_area + [children ~ duration]'"
   ]
  },
  {
   "cell_type": "code",
   "execution_count": null,
   "id": "4acbe610",
   "metadata": {},
   "outputs": [],
   "source": [
    "mod = IV2SLS.from_formula(formula, hist_data).fit()"
   ]
  },
  {
   "cell_type": "code",
   "execution_count": null,
   "id": "f58ec20a",
   "metadata": {},
   "outputs": [],
   "source": [
    "mod.params"
   ]
  },
  {
   "cell_type": "code",
   "execution_count": null,
   "id": "48be5eec",
   "metadata": {},
   "outputs": [],
   "source": [
    "import numpy as np\n",
    "from linearmodels.datasets import wage\n",
    "from linearmodels.iv import IV2SLS\n",
    "\n",
    "data = wage.load()"
   ]
  },
  {
   "cell_type": "code",
   "execution_count": null,
   "id": "ada5cb26",
   "metadata": {},
   "outputs": [],
   "source": [
    "data.head()"
   ]
  },
  {
   "cell_type": "code",
   "execution_count": null,
   "id": "855696ad",
   "metadata": {},
   "outputs": [],
   "source": [
    "formula = 'np.log(wage) ~ 1 + exper + exper **2 + brthord + [educ ~ sibs]'"
   ]
  },
  {
   "cell_type": "code",
   "execution_count": null,
   "id": "4dfda18d",
   "metadata": {},
   "outputs": [],
   "source": [
    "mod = IV2SLS.from_formula(formula, data).fit()"
   ]
  },
  {
   "cell_type": "code",
   "execution_count": null,
   "id": "c4a530ce",
   "metadata": {},
   "outputs": [],
   "source": [
    "mod.params"
   ]
  }
 ],
 "metadata": {
  "kernelspec": {
   "display_name": "Python 3 (ipykernel)",
   "language": "python",
   "name": "python3"
  },
  "language_info": {
   "codemirror_mode": {
    "name": "ipython",
    "version": 3
   },
   "file_extension": ".py",
   "mimetype": "text/x-python",
   "name": "python",
   "nbconvert_exporter": "python",
   "pygments_lexer": "ipython3",
   "version": "3.9.7"
  }
 },
 "nbformat": 4,
 "nbformat_minor": 5
}
