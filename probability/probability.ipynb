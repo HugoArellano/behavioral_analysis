{
 "cells": [
  {
   "cell_type": "markdown",
   "id": "8be6ef99",
   "metadata": {},
   "source": [
    "# Probability Math"
   ]
  },
  {
   "cell_type": "code",
   "execution_count": 3,
   "id": "9ea9e1f7",
   "metadata": {},
   "outputs": [
    {
     "data": {
      "text/plain": [
       "0.006538461538461539"
      ]
     },
     "execution_count": 3,
     "metadata": {},
     "output_type": "execute_result"
    }
   ],
   "source": [
    "p_coffee_drinker = .65\n",
    "p_cancer = 0.005\n",
    "p_coffee_drinker_given_cancer = .85\n",
    "\n",
    "p_cancer_drinker_coffee_drinker = (p_coffee_drinker_given_cancer \n",
    "                                   * p_cancer) / p_coffee_drinker\n",
    "\n",
    "p_cancer_drinker_coffee_drinker"
   ]
  },
  {
   "cell_type": "markdown",
   "id": "48d7182d",
   "metadata": {},
   "source": [
    "P (A|B) = P (B|A)P(A) / P (B)"
   ]
  },
  {
   "cell_type": "code",
   "execution_count": 4,
   "id": "19073d28",
   "metadata": {},
   "outputs": [
    {
     "data": {
      "text/plain": [
       "0.0009765625"
      ]
     },
     "execution_count": 4,
     "metadata": {},
     "output_type": "execute_result"
    }
   ],
   "source": [
    "p = .50**10\n",
    "p"
   ]
  },
  {
   "cell_type": "markdown",
   "id": "14b997c8",
   "metadata": {},
   "source": [
    "#### Binomial distribution"
   ]
  },
  {
   "cell_type": "code",
   "execution_count": 4,
   "id": "66dfc1fd",
   "metadata": {},
   "outputs": [
    {
     "name": "stdout",
     "output_type": "stream",
     "text": [
      "0-0.0009765625\n",
      "1-0.009765625000000002\n",
      "2-0.04394531250000004\n",
      "3-0.1171875\n",
      "4-0.2050781249999999\n",
      "5-0.24609375000000003\n",
      "6-0.2050781249999999\n",
      "7-0.11718749999999999\n",
      "8-0.04394531250000004\n",
      "9-0.009765625000000002\n",
      "10-0.0009765625\n"
     ]
    }
   ],
   "source": [
    "from scipy.stats import binom\n",
    "n = 10\n",
    "p = 0.5\n",
    "\n",
    "for k in range(n+1):\n",
    "    probability = binom.pmf(k,n,p)\n",
    "    print('{0}-{1}'.format(k, probability))"
   ]
  },
  {
   "cell_type": "markdown",
   "id": "b3a494bf",
   "metadata": {},
   "source": [
    "#### Beta distribution"
   ]
  },
  {
   "cell_type": "code",
   "execution_count": 8,
   "id": "caaa7526",
   "metadata": {},
   "outputs": [
    {
     "data": {
      "text/plain": [
       "0.7748409780000002"
      ]
     },
     "execution_count": 8,
     "metadata": {},
     "output_type": "execute_result"
    }
   ],
   "source": [
    "from scipy.stats import beta\n",
    "\n",
    "a = 8\n",
    "b = 2\n",
    "\n",
    "p = beta.cdf(.9,a,b)\n",
    "p"
   ]
  },
  {
   "cell_type": "markdown",
   "id": "5aa0f600",
   "metadata": {},
   "source": [
    "According to our calculation, ther is 77.48% chance the underlaying probability of success\n",
    "is 90% or less."
   ]
  },
  {
   "cell_type": "code",
   "execution_count": 12,
   "id": "79d23a31",
   "metadata": {},
   "outputs": [
    {
     "data": {
      "text/plain": [
       "0.13163577484183697"
      ]
     },
     "execution_count": 12,
     "metadata": {},
     "output_type": "execute_result"
    }
   ],
   "source": [
    "# shows how we calculate this subtraction operation, for new test\n",
    "\n",
    "a = 30\n",
    "b = 6\n",
    "\n",
    "p = 1 - beta.cdf(.9,a,b)\n",
    "p"
   ]
  },
  {
   "cell_type": "markdown",
   "id": "af2861b3",
   "metadata": {},
   "source": [
    "So this means out of 8/10 successful engine test, ter is only a 22.5% chance the underlying\n",
    "success rate is 90%."
   ]
  },
  {
   "cell_type": "code",
   "execution_count": 14,
   "id": "9dadd28d",
   "metadata": {},
   "outputs": [
    {
     "data": {
      "text/plain": [
       "0.33863336199999994"
      ]
     },
     "execution_count": 14,
     "metadata": {},
     "output_type": "execute_result"
    }
   ],
   "source": [
    "from scipy.stats import beta\n",
    "\n",
    "a=8\n",
    "b=2\n",
    "\n",
    "p = beta.cdf(.90,a,b) - beta.cdf(.80,a,b)\n",
    "p"
   ]
  },
  {
   "cell_type": "markdown",
   "id": "ba1f36e4",
   "metadata": {},
   "source": [
    "## Exercises"
   ]
  },
  {
   "cell_type": "markdown",
   "id": "974da8c9",
   "metadata": {},
   "source": [
    "1. There is a 30% chance of rain today, and a 40% chance your umbrella order\n",
    "will arrive on time. You are eager to walk in the rain today and cannot do so\n",
    "without either! What is the probability it will rain and your umbrella will arrive?"
   ]
  },
  {
   "cell_type": "code",
   "execution_count": 15,
   "id": "999ed232",
   "metadata": {},
   "outputs": [
    {
     "data": {
      "text/plain": [
       "0.12"
      ]
     },
     "execution_count": 15,
     "metadata": {},
     "output_type": "execute_result"
    }
   ],
   "source": [
    "rain = .3\n",
    "umbrella = .4\n",
    "rain_with_umbrella = rain * umbrella\n",
    "rain_with_umbrella\n",
    "\n",
    "# there is 12% of chances that "
   ]
  },
  {
   "cell_type": "markdown",
   "id": "e340b19e",
   "metadata": {},
   "source": [
    "2. What is the probability will not rain or the umbrella arives?"
   ]
  },
  {
   "cell_type": "code",
   "execution_count": 37,
   "id": "a9ccfedf",
   "metadata": {},
   "outputs": [
    {
     "data": {
      "text/plain": [
       "0.8200000000000001"
      ]
     },
     "execution_count": 37,
     "metadata": {},
     "output_type": "execute_result"
    }
   ],
   "source": [
    "not_rain = .7\n",
    "umbrella = .4\n",
    "\n",
    "not_run = (not_rain + umbrella) - (not_rain * umbrella)\n",
    "not_run\n",
    "\n",
    "# The outcome yielded says that there is 82% of chance that we finish the day dry. "
   ]
  },
  {
   "cell_type": "markdown",
   "id": "8a69a7a6",
   "metadata": {},
   "source": [
    "3. The expected delivery on time decrease with rain until 20%, so what is the probability it will raing and your umbrella will arrive on time."
   ]
  },
  {
   "cell_type": "code",
   "execution_count": 18,
   "id": "166b7eec",
   "metadata": {},
   "outputs": [
    {
     "data": {
      "text/plain": [
       "0.06"
      ]
     },
     "execution_count": 18,
     "metadata": {},
     "output_type": "execute_result"
    }
   ],
   "source": [
    "rain = .3\n",
    "umbrella_with_rain = .2\n",
    "\n",
    "umbrella_on_time = rain * umbrella_with_rain\n",
    "umbrella_on_time"
   ]
  },
  {
   "cell_type": "markdown",
   "id": "4f82a688",
   "metadata": {},
   "source": [
    "4. 137 passenger booked on a flight from las vegas to dallas. However it is Las vegas on sunday morning and you estimate each passenger is% likely to not show up. You're trying to figure out how many seats to overbook so the plane does not fly empty. \n",
    "How likely is it at least 50 passenger will not show up"
   ]
  },
  {
   "cell_type": "code",
   "execution_count": 31,
   "id": "23d454a1",
   "metadata": {},
   "outputs": [
    {
     "name": "stdout",
     "output_type": "stream",
     "text": [
      "0 - 4.043163486926879e-31\n",
      "1 - 3.733187619595884e-29\n",
      "2 - 1.7113812559386846e-27\n",
      "3 - 5.193286264822027e-26\n",
      "4 - 1.1735459470758458e-24\n",
      "5 - 2.1063484644259044e-23\n",
      "6 - 3.1278258553627447e-22\n",
      "7 - 3.952325653808102e-21\n",
      "8 - 4.338070889341985e-20\n",
      "9 - 4.20140815405262e-19\n",
      "10 - 3.635160390972988e-18\n",
      "11 - 2.838106863928248e-17\n",
      "12 - 2.0160242637744651e-16\n",
      "13 - 1.3119957452118304e-15\n",
      "14 - 7.86860391356731e-15\n",
      "15 - 4.371139523391054e-14\n",
      "16 - 2.259122511123217e-13\n",
      "17 - 1.0904731750843816e-12\n",
      "18 - 4.9329661705158304e-12\n",
      "19 - 2.097705973038723e-11\n",
      "20 - 8.408382773254813e-11\n",
      "21 - 3.184803945977178e-10\n",
      "22 - 1.142419841760137e-09\n",
      "23 - 3.888884665634863e-09\n",
      "24 - 1.2586023274571507e-08\n",
      "25 - 3.879340094950043e-08\n",
      "26 - 1.1405561375955343e-07\n",
      "27 - 3.20329826646364e-07\n",
      "28 - 8.605718127784847e-07\n",
      "29 - 2.2142816171095555e-06\n",
      "30 - 5.463185147504134e-06\n",
      "31 - 1.2939156712068014e-05\n",
      "32 - 2.9448593917146593e-05\n",
      "33 - 6.446861223094951e-05\n",
      "34 - 0.00013588198291007654\n",
      "35 - 0.0002759882149091263\n",
      "36 - 0.0005406333197962202\n",
      "37 - 0.0010222397268880496\n",
      "38 - 0.0018671632481017746\n",
      "39 - 0.003297033822463484\n",
      "40 - 0.005632489093920937\n",
      "41 - 0.009316052692805062\n",
      "42 - 0.01492910198634275\n",
      "43 - 0.023196383891553242\n",
      "44 - 0.03497099751412588\n",
      "45 - 0.05119379850522589\n",
      "46 - 0.07282419982669266\n",
      "47 - 0.10074429231255727\n",
      "48 - 0.13564440791988824\n",
      "49 - 0.17790441185257488\n",
      "50 - 0.22748948313359402\n",
      "51 - 0.2838803485120079\n",
      "52 - 0.3460548923907712\n",
      "53 - 0.4125308198083174\n",
      "54 - 0.48146881861169866\n",
      "55 - 0.5508246234684343\n",
      "56 - 0.6185290996381042\n",
      "57 - 0.6826701823251595\n",
      "58 - 0.7416504882442913\n",
      "59 - 0.7942995748839682\n",
      "60 - 0.8399287833050219\n",
      "61 - 0.8783271335609901\n",
      "62 - 0.9097064305443621\n",
      "63 - 0.9346106344994193\n",
      "64 - 0.9538076250481091\n",
      "65 - 0.9681807564332822\n",
      "66 - 0.9786339428952261\n",
      "67 - 0.9860187810922214\n",
      "68 - 0.9910868073058455\n",
      "69 - 0.9944654914482617\n",
      "70 - 0.9966535916547788\n",
      "71 - 0.9980301429584093\n",
      "72 - 0.9988713687550723\n",
      "73 - 0.9993707265339135\n",
      "74 - 0.9996586445325245\n",
      "75 - 0.9998198786117467\n",
      "76 - 0.9999075673214991\n",
      "77 - 0.9999538791076021\n",
      "78 - 0.9999776287415011\n",
      "79 - 0.9999894534537377\n",
      "80 - 0.9999951687313188\n",
      "81 - 0.9999978499726531\n",
      "82 - 0.999999070700415\n",
      "83 - 0.9999996099777396\n",
      "84 - 0.999999841096593\n",
      "85 - 0.9999999371695282\n",
      "86 - 0.9999999758966028\n",
      "87 - 0.9999999910313216\n",
      "88 - 0.9999999967641697\n",
      "89 - 0.9999999988683611\n",
      "90 - 0.9999999996165181\n",
      "91 - 0.9999999998741252\n",
      "92 - 0.9999999999599943\n",
      "93 - 0.9999999999876941\n",
      "94 - 0.9999999999963379\n",
      "95 - 0.9999999999989463\n",
      "96 - 0.999999999999707\n",
      "97 - 0.9999999999999214\n",
      "98 - 0.9999999999999797\n",
      "99 - 0.999999999999995\n",
      "100 - 0.9999999999999989\n",
      "101 - 0.9999999999999999\n",
      "102 - 1.0000000000000002\n",
      "103 - 1.0000000000000002\n",
      "104 - 1.0000000000000002\n",
      "105 - 1.0000000000000002\n",
      "106 - 1.0000000000000002\n",
      "107 - 1.0000000000000002\n",
      "108 - 1.0000000000000002\n",
      "109 - 1.0000000000000002\n",
      "110 - 1.0000000000000002\n",
      "111 - 1.0000000000000002\n",
      "112 - 1.0000000000000002\n",
      "113 - 1.0000000000000002\n",
      "114 - 1.0000000000000002\n",
      "115 - 1.0000000000000002\n",
      "116 - 1.0000000000000002\n",
      "117 - 1.0000000000000002\n",
      "118 - 1.0000000000000002\n",
      "119 - 1.0000000000000002\n",
      "120 - 1.0000000000000002\n",
      "121 - 1.0000000000000002\n",
      "122 - 1.0000000000000002\n",
      "123 - 1.0000000000000002\n",
      "124 - 1.0000000000000002\n",
      "125 - 1.0000000000000002\n",
      "126 - 1.0000000000000002\n",
      "127 - 1.0000000000000002\n",
      "128 - 1.0000000000000002\n",
      "129 - 1.0000000000000002\n",
      "130 - 1.0000000000000002\n",
      "131 - 1.0000000000000002\n",
      "132 - 1.0000000000000002\n",
      "133 - 1.0000000000000002\n",
      "134 - 1.0000000000000002\n",
      "135 - 1.0000000000000002\n",
      "136 - 1.0000000000000002\n",
      "137 - 1.0000000000000002\n",
      "138 - 1.0000000000000002\n",
      "139 - 1.0000000000000002\n",
      "140 - 1.0000000000000002\n",
      "141 - 1.0000000000000002\n",
      "142 - 1.0000000000000002\n",
      "143 - 1.0000000000000002\n",
      "144 - 1.0000000000000002\n",
      "145 - 1.0000000000000002\n",
      "146 - 1.0000000000000002\n",
      "147 - 1.0000000000000002\n",
      "148 - 1.0000000000000002\n",
      "149 - 1.0000000000000002\n",
      "150 - 1.0000000000000002\n",
      "151 - 1.0000000000000002\n",
      "152 - 1.0000000000000002\n",
      "153 - 1.0000000000000002\n",
      "154 - 1.0000000000000002\n",
      "155 - 1.0000000000000002\n",
      "156 - 1.0000000000000002\n",
      "157 - 1.0000000000000002\n",
      "158 - 1.0000000000000002\n",
      "159 - 1.0000000000000002\n",
      "160 - 1.0000000000000002\n",
      "161 - 1.0000000000000002\n",
      "162 - 1.0000000000000002\n",
      "163 - 1.0000000000000002\n",
      "164 - 1.0000000000000002\n",
      "165 - 1.0000000000000002\n",
      "166 - 1.0000000000000002\n",
      "167 - 1.0000000000000002\n",
      "168 - 1.0000000000000002\n",
      "169 - 1.0000000000000002\n",
      "170 - 1.0000000000000002\n",
      "171 - 1.0000000000000002\n",
      "172 - 1.0000000000000002\n",
      "173 - 1.0000000000000002\n",
      "174 - 1.0000000000000002\n",
      "175 - 1.0000000000000002\n",
      "176 - 1.0000000000000002\n",
      "177 - 1.0000000000000002\n",
      "178 - 1.0000000000000002\n",
      "179 - 1.0000000000000002\n",
      "180 - 1.0000000000000002\n",
      "181 - 1.0000000000000002\n",
      "182 - 1.0000000000000002\n",
      "183 - 1.0000000000000002\n",
      "184 - 1.0000000000000002\n",
      "185 - 1.0000000000000002\n",
      "186 - 1.0000000000000002\n",
      "187 - 1.0000000000000002\n"
     ]
    }
   ],
   "source": [
    "n = 137\n",
    "p = 0.4\n",
    "\n",
    "for k in range(50+138):\n",
    "    probability += binom.pmf(k,n,p)\n",
    "    print('{0} - {1}'.format(k, probability))"
   ]
  },
  {
   "cell_type": "markdown",
   "id": "5e226a8a",
   "metadata": {},
   "source": [
    "5. You flipped a coin 19 times and got heads 15 and tails 4 times.\n",
    "Do you think this con has any good probability of being fair? Why or ahy not?"
   ]
  },
  {
   "cell_type": "code",
   "execution_count": 51,
   "id": "00271c1b",
   "metadata": {},
   "outputs": [
    {
     "data": {
      "text/plain": [
       "0.0037689208984375"
      ]
     },
     "execution_count": 51,
     "metadata": {},
     "output_type": "execute_result"
    }
   ],
   "source": [
    "head = 15\n",
    "tail = 4\n",
    "\n",
    "p = beta.cdf(.50,head,tail)\n",
    "p\n",
    "#there is only a 0.037% o chance, so for me it's a tricky coin"
   ]
  }
 ],
 "metadata": {
  "kernelspec": {
   "display_name": "Python 3 (ipykernel)",
   "language": "python",
   "name": "python3"
  },
  "language_info": {
   "codemirror_mode": {
    "name": "ipython",
    "version": 3
   },
   "file_extension": ".py",
   "mimetype": "text/x-python",
   "name": "python",
   "nbconvert_exporter": "python",
   "pygments_lexer": "ipython3",
   "version": "3.9.7"
  }
 },
 "nbformat": 4,
 "nbformat_minor": 5
}
