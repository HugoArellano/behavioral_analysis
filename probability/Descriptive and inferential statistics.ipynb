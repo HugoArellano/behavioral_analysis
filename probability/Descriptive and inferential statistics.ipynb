{
 "cells": [
  {
   "cell_type": "code",
   "execution_count": 1,
   "id": "2b69280d",
   "metadata": {},
   "outputs": [],
   "source": [
    "# the norma distribution, returns likelihood\n",
    "def normal_pdf(x: float, mean:float, std_dev:float) -> float:\n",
    "    return (1/(2*math.pi * std_dev**2)**.5) * math.exp(-1.0 * (x-mean)**2/(2*std_dev**2))"
   ]
  },
  {
   "cell_type": "code",
   "execution_count": 2,
   "id": "acca85c9",
   "metadata": {},
   "outputs": [
    {
     "data": {
      "text/plain": [
       "0.5"
      ]
     },
     "execution_count": 2,
     "metadata": {},
     "output_type": "execute_result"
    }
   ],
   "source": [
    "from scipy.stats import norm\n",
    "\n",
    "mean = 64.43\n",
    "std_dev = 2.99\n",
    "\n",
    "x = norm.cdf(64.43, mean, std_dev)\n",
    "x"
   ]
  },
  {
   "cell_type": "code",
   "execution_count": 3,
   "id": "00fee5f8",
   "metadata": {},
   "outputs": [
    {
     "data": {
      "text/plain": [
       "69.3481123445849"
      ]
     },
     "execution_count": 3,
     "metadata": {},
     "output_type": "execute_result"
    }
   ],
   "source": [
    "# using the inverse CDF\n",
    "\n",
    "from scipy.stats import norm\n",
    "x = norm.ppf(.95, loc=64.43, scale=2.99)\n",
    "x"
   ]
  },
  {
   "cell_type": "code",
   "execution_count": 4,
   "id": "ec742946",
   "metadata": {},
   "outputs": [],
   "source": [
    "# z-score\n",
    "def z_score(x,mean,std):\n",
    "    return(x-mean)/std\n",
    "\n",
    "def z_to_x(z,mean,std):\n",
    "    return(z*std)+mean\n",
    "\n",
    "mean = 140000\n",
    "std_dev = 3000\n",
    "x= 150000\n",
    "\n",
    "z = z_score(x, mean, std_dev)\n",
    "back_to_x = z_to_x(z, mean,std_dev)"
   ]
  },
  {
   "cell_type": "code",
   "execution_count": 5,
   "id": "303e7e50",
   "metadata": {},
   "outputs": [
    {
     "name": "stdout",
     "output_type": "stream",
     "text": [
      "z-score: 3.3333333333333335\n",
      "back to x: 150000.0\n"
     ]
    }
   ],
   "source": [
    "print('z-score: {}'.format(z))\n",
    "print('back to x: {}'.format(back_to_x))"
   ]
  },
  {
   "cell_type": "markdown",
   "id": "46893ef3",
   "metadata": {},
   "source": [
    "## Inferential statistics"
   ]
  },
  {
   "cell_type": "code",
   "execution_count": 6,
   "id": "7de86af8",
   "metadata": {},
   "outputs": [
    {
     "name": "stdout",
     "output_type": "stream",
     "text": [
      "(-1.959963984540054, 1.959963984540054)\n"
     ]
    }
   ],
   "source": [
    "# retrieving a critical z-value\n",
    "\n",
    "from scipy.stats import norm\n",
    "\n",
    "def critical_z_value(p):\n",
    "    norm_dist = norm(loc=0.0, scale=1.0)\n",
    "    left_tail_area = (1.0 - p) / 2.0\n",
    "    upper_area = 1.0 - ((1.0 - p) / 2.0)\n",
    "    return norm_dist.ppf(left_tail_area), norm_dist.ppf(upper_area)\n",
    "print(critical_z_value(p=.95))"
   ]
  },
  {
   "cell_type": "code",
   "execution_count": 7,
   "id": "ed562cb8",
   "metadata": {},
   "outputs": [
    {
     "data": {
      "text/plain": [
       "(63.839779432016634, 64.97622056798338)"
      ]
     },
     "execution_count": 7,
     "metadata": {},
     "output_type": "execute_result"
    }
   ],
   "source": [
    "from math import sqrt\n",
    "from scipy.stats import norm\n",
    "\n",
    "def critical_z_value(p):\n",
    "    norm_dist = norm(loc=0.0, scale=1.0)\n",
    "    left_tail_area = (1.0-p) / 2.0\n",
    "    upper_area = 1.0 - ((1.0 - p) / 2.0)\n",
    "    return norm_dist.ppf(left_tail_area), norm_dist.ppf(upper_area)\n",
    "\n",
    "def confidence_interval(p, sample_mean, sample_std, n):\n",
    "    lower, upper = critical_z_value(p)\n",
    "    lower_ci = lower * (sample_std / sqrt(n))\n",
    "    upper_ci = upper * (sample_std/sqrt(n))\n",
    "    \n",
    "    return sample_mean + lower_ci, sample_mean + upper_ci\n",
    "\n",
    "confidence_interval(p=.95, sample_mean=64.408, sample_std=2.05, n=50)"
   ]
  },
  {
   "cell_type": "markdown",
   "id": "b85a4685",
   "metadata": {},
   "source": [
    "So the way to interpret this is “based on my sample of 50 golden retriever\n",
    "weights with sample mean 64.408 and sample standard deviation of 2.05, I am\n",
    "95% confident the population mean lies between 63.686 and 65.1296"
   ]
  },
  {
   "cell_type": "markdown",
   "id": "2fb3a2b7",
   "metadata": {},
   "source": [
    "## Excersices"
   ]
  },
  {
   "cell_type": "markdown",
   "id": "b6346706",
   "metadata": {},
   "source": [
    "1. I am skeptical that my 3D printer filament is not 1.75mm in average\n",
    "diameter as advertised. I sampled 34 measurements with my tool. The\n",
    "sample mean is 1.715588 and the sample standard deviation is 0.029252.\n",
    "What is the 99% confidence interval for the mean of my entire spool of\n",
    "filament?"
   ]
  },
  {
   "cell_type": "code",
   "execution_count": 8,
   "id": "0480d674",
   "metadata": {},
   "outputs": [
    {
     "data": {
      "text/plain": [
       "(1.7142077897374866, 1.7167922102625135)"
      ]
     },
     "execution_count": 8,
     "metadata": {},
     "output_type": "execute_result"
    }
   ],
   "source": [
    "from math import sqrt\n",
    "from scipy.stats import norm\n",
    "\n",
    "confidence_interval(p=.99, sample_mean=1.7155, sample_std=0.0029252, n=34)"
   ]
  },
  {
   "cell_type": "markdown",
   "id": "0c494640",
   "metadata": {},
   "source": [
    "2. Your marketing department has started a new advertising campaign and\n",
    "wants to know if it affected sales, which in the past averaged 10345 a day\n",
    "with a standard deviation of 552. The new advertising campaign ran for 45\n",
    "days and averaged $11,641 in sales.\n",
    "Did the campaign affect sales? Why or why not? (Use a 2-tailed test for\n",
    "more reliable significance)"
   ]
  },
  {
   "cell_type": "code",
   "execution_count": 9,
   "id": "1f3899fb",
   "metadata": {},
   "outputs": [
    {
     "name": "stdout",
     "output_type": "stream",
     "text": [
      "p_value 0.01888333596496139\n",
      "Aproved\n"
     ]
    }
   ],
   "source": [
    "mean = 10345\n",
    "std_dev = 552\n",
    "\n",
    "p1 = 1.0 - norm.cdf(11641, mean, std_dev)\n",
    "p2 = p1\n",
    "p_value = p1 + p2\n",
    "\n",
    "print('p_value', p_value)\n",
    "if p_value <= .05:\n",
    "    print('Aproved')\n",
    "else:\n",
    "    print('Not aproved')"
   ]
  }
 ],
 "metadata": {
  "kernelspec": {
   "display_name": "Python 3 (ipykernel)",
   "language": "python",
   "name": "python3"
  },
  "language_info": {
   "codemirror_mode": {
    "name": "ipython",
    "version": 3
   },
   "file_extension": ".py",
   "mimetype": "text/x-python",
   "name": "python",
   "nbconvert_exporter": "python",
   "pygments_lexer": "ipython3",
   "version": "3.9.7"
  }
 },
 "nbformat": 4,
 "nbformat_minor": 5
}
